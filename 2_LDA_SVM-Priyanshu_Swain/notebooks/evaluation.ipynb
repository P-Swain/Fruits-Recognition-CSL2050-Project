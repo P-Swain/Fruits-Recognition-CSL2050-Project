{
 "cells": [
  {
   "cell_type": "markdown",
   "metadata": {},
   "source": [
    "# **Analysing the Best LDA + SVM Model** #"
   ]
  },
  {
   "cell_type": "markdown",
   "metadata": {},
   "source": [
    "## **Import Libraries** ##"
   ]
  },
  {
   "cell_type": "code",
   "execution_count": 1,
   "metadata": {},
   "outputs": [],
   "source": [
    "import os\n",
    "from tqdm import tqdm  # for the progress bar\n",
    "\n",
    "import numpy as np\n",
    "from sklearn.metrics import accuracy_score\n",
    "\n",
    "import joblib"
   ]
  },
  {
   "cell_type": "markdown",
   "metadata": {},
   "source": [
    "## **Loading Test Features and Labels** ##"
   ]
  },
  {
   "cell_type": "code",
   "execution_count": 2,
   "metadata": {},
   "outputs": [],
   "source": [
    "# Function to Load Feature Vectors and Labels\n",
    "def loadFeaturesAndLabels(features_path):\n",
    "\n",
    "    features = [] # list to store the feature vectors\n",
    "    labels = [] # list to store the labels\n",
    "    \n",
    "    # checking if the path exists\n",
    "    if not os.path.exists(features_path):\n",
    "        raise ValueError(f\"Path {features_path} does not exist.\")\n",
    "    # checking if the path is a directory\n",
    "    if not os.path.isdir(features_path):\n",
    "        raise ValueError(f\"Path {features_path} is not a directory.\")\n",
    "    \n",
    "    # going through through the folders and load the features\n",
    "    for fruit_folder in tqdm(os.listdir(features_path), unit=\"folder\", desc=f\"Loading Features from {features_path}\"):\n",
    "\n",
    "        fruit_folder_path = os.path.join(features_path, fruit_folder) # creating complete path of the fruit folder\n",
    "        \n",
    "        if os.path.isdir(fruit_folder_path):  # checking if it's an valid path to a folder\n",
    "            for featureVectorFile in os.listdir(fruit_folder_path):\n",
    "\n",
    "                feature_file_path = os.path.join(fruit_folder_path, featureVectorFile) # creating complete path of the feature file\n",
    "                \n",
    "                if featureVectorFile.endswith('.npy'):  # checking if its a valid feature file\n",
    "                    labels.append(fruit_folder[:-2].strip())  # the folder name is the label (not taking the numbers at the end)\n",
    "\n",
    "                    featureVector = np.load(feature_file_path)\n",
    "                    features.append(featureVector)\n",
    "                    \n",
    "                    \n",
    "    return np.array(features), np.array(labels)"
   ]
  },
  {
   "cell_type": "code",
   "execution_count": 3,
   "metadata": {},
   "outputs": [
    {
     "name": "stderr",
     "output_type": "stream",
     "text": [
      "Loading Features from ../features/img_HOG_ColourHist_Features/Testing: 100%|██████████| 160/160 [00:03<00:00, 52.07folder/s]\n"
     ]
    },
    {
     "name": "stdout",
     "output_type": "stream",
     "text": [
      "Testing Features Shape: (26668, 960)\n",
      "Number of Labels: 131\n"
     ]
    }
   ],
   "source": [
    "testFeatures, testLabels = loadFeaturesAndLabels('../features/img_HOG_ColourHist_Features/Testing')\n",
    "print(f\"Testing Features Shape: {testFeatures.shape}\")\n",
    "print(f\"Number of Labels: {len(np.unique(testLabels))}\")"
   ]
  },
  {
   "cell_type": "markdown",
   "metadata": {},
   "source": [
    "## **Loading LDA Model 3** ##"
   ]
  },
  {
   "cell_type": "code",
   "execution_count": null,
   "metadata": {},
   "outputs": [
    {
     "name": "stdout",
     "output_type": "stream",
     "text": [
      "Number of Features in LDA: 131\n",
      "LDA Classifier Accuracy: 94.64%\n"
     ]
    }
   ],
   "source": [
    "# loading LDA Model 3\n",
    "lda_model_filename = '../saved_models/LDA_Model_3.pkl'\n",
    "LDA_Model = joblib.load(lda_model_filename)\n",
    "\n",
    "# number of features in LDA Model 3\n",
    "print(f\"Number of Features in LDA: {LDA_Model.scalings_.shape[1]}\")\n",
    "\n",
    "# predicitng using LDA Model 3\n",
    "testPredictions_LDA = LDA_Model.predict(testFeatures)\n",
    "\n",
    "# finding the accuracy\n",
    "accuracy = accuracy_score(testLabels, testPredictions_LDA)\n",
    "print(f\"LDA Classifier Accuracy: {accuracy*100:.2f}%\")"
   ]
  },
  {
   "cell_type": "markdown",
   "metadata": {},
   "source": [
    "## **Analyzing LDA + SVM Model 3** ##"
   ]
  },
  {
   "cell_type": "code",
   "execution_count": null,
   "metadata": {},
   "outputs": [
    {
     "name": "stdout",
     "output_type": "stream",
     "text": [
      "LDA + SVM Classifier Accuracy: 98.90%\n"
     ]
    }
   ],
   "source": [
    "# loading LDA + SVM Model 3\n",
    "lda_svm_model_filename = '../saved_models/LDA_SVM_Model_3.pkl'\n",
    "LDA_SVM_Model = joblib.load(lda_svm_model_filename)\n",
    "\n",
    "# transforming the features using LDA Model 3 for LDA + SVM Model 3\n",
    "testFeaturesLDA = LDA_Model.transform(testFeatures)\n",
    "print(f\"Number of Test Samples: {testFeaturesLDA.shape[0]}\")\n",
    "print(f\"Numder of Features in LDA + SVM Model: {testFeaturesLDA.shape[1]}\")\n",
    "\n",
    "# predicitng using LDA + SVM Model 3\n",
    "testPredictions_LDA_SVM = LDA_SVM_Model.predict(testFeaturesLDA)\n",
    "\n",
    "# finding the accuracy\n",
    "accuracy = accuracy_score(testLabels, testPredictions_LDA_SVM)\n",
    "print(f\"Best LDA + SVM Classifier Test Accuracy: {accuracy*100:.2f}%\")"
   ]
  }
 ],
 "metadata": {
  "kernelspec": {
   "display_name": "PRML",
   "language": "python",
   "name": "python3"
  },
  "language_info": {
   "codemirror_mode": {
    "name": "ipython",
    "version": 3
   },
   "file_extension": ".py",
   "mimetype": "text/x-python",
   "name": "python",
   "nbconvert_exporter": "python",
   "pygments_lexer": "ipython3",
   "version": "3.11.11"
  }
 },
 "nbformat": 4,
 "nbformat_minor": 2
}
