{
 "cells": [
  {
   "cell_type": "markdown",
   "metadata": {},
   "source": [
    "## **Import Libraries** ##"
   ]
  },
  {
   "cell_type": "code",
   "execution_count": 1,
   "metadata": {},
   "outputs": [],
   "source": [
    "# Importing req. libraries\n",
    "import os\n",
    "import numpy as np\n",
    "from PIL import Image\n",
    "from skimage.feature import hog\n",
    "from skimage.feature import local_binary_pattern as lbp\n",
    "from skimage import exposure\n",
    "import cv2"
   ]
  },
  {
   "cell_type": "markdown",
   "metadata": {},
   "source": [
    "## **Convert Img to Numpy Array** ##"
   ]
  },
  {
   "cell_type": "code",
   "execution_count": 2,
   "metadata": {},
   "outputs": [],
   "source": [
    "# Function to load image data and convert to numpy array\n",
    "def convertImgToNumpyArr(image_path):\n",
    "    try:\n",
    "        img = Image.open(image_path)  # creating reference variable img to access image data\n",
    "        img = img.resize((100, 100))  # resize image to 100x100 in case it is not\n",
    "        img = np.array(img)  # converting image data from JPG to numpy array\n",
    "        #img = img / 255.0  # normalizing RGB values (cv2 needs 0-255 range)\n",
    "        return img\n",
    "    except Exception as e:\n",
    "        print(f\"Error processing image {image_path}: {e}\")  # error handling\n",
    "        return None"
   ]
  },
  {
   "cell_type": "markdown",
   "metadata": {},
   "source": [
    "## **Compute HOG Features** ##"
   ]
  },
  {
   "cell_type": "code",
   "execution_count": 3,
   "metadata": {},
   "outputs": [],
   "source": [
    "# Function to compute HOG features of an image\n",
    "def computeHOGFeatures(image):\n",
    "    \n",
    "    # conversion to grayscale\n",
    "    grayImg = cv2.cvtColor(image, cv2.COLOR_RGB2GRAY)\n",
    "    grayImg = grayImg / 255.0  # normalizing\n",
    "\n",
    "    # computing HOG features\n",
    "    hogFeatures, hogImg = hog(grayImg, pixels_per_cell=(16, 16), orientations=9, cells_per_block=(2, 2), visualize=True) # 9 orientations, 16x16 pixels per cell, 2x2 cells per block\n",
    "\n",
    "    # increasing the contrast of the image\n",
    "    hogImg = exposure.rescale_intensity(hogImg, in_range=(0, 10))\n",
    "\n",
    "    return hogFeatures, hogImg"
   ]
  },
  {
   "cell_type": "markdown",
   "metadata": {},
   "source": [
    "## **Compute LBP Features** ##"
   ]
  },
  {
   "cell_type": "code",
   "execution_count": 4,
   "metadata": {},
   "outputs": [],
   "source": [
    "def extract_LBP_features(img, neighbors=8, radius=1):\n",
    "\n",
    "     # conversion to grayscale\n",
    "    gray = cv2.cvtColor(img, cv2.COLOR_RGB2GRAY)\n",
    "\n",
    "    # computing LBP features\n",
    "    lbpImg = lbp(gray, neighbors, radius, method=\"uniform\") \n",
    "    \n",
    "    bins = np.arange(0, neighbors + 3) # number of bins for histogram\n",
    "    lbpHist, _ = np.histogram(lbpImg.flatten(), bins=bins, range=(0, neighbors + 2)) # computing histogram\n",
    "\n",
    "    return lbpHist / (np.sum(lbpHist) + 1e-6)"
   ]
  },
  {
   "cell_type": "markdown",
   "metadata": {},
   "source": [
    "## **Compute Colour Histogram Features** ##"
   ]
  },
  {
   "cell_type": "code",
   "execution_count": 5,
   "metadata": {},
   "outputs": [],
   "source": [
    "# Function to compute colour histogram features for an image\n",
    "\n",
    "def computeColourHist(image, bins=20):\n",
    "\n",
    "    # conversion from RGB to HSV\n",
    "    hsvImg = cv2.cvtColor(image, cv2.COLOR_RGB2HSV)\n",
    "    \n",
    "    hsvImg = hsvImg / 255.0  # normalizing\n",
    "    \n",
    "    # extracting histograms for Hue, Saturation, and Value\n",
    "    hueHist = np.histogram(hsvImg[:,:,0], bins=bins, range=(0, 1))[0]  \n",
    "    satHist = np.histogram(hsvImg[:,:,1], bins=bins, range=(0, 1))[0]  \n",
    "    valHist = np.histogram(hsvImg[:,:,2], bins=bins, range=(0, 1))[0]  \n",
    "    \n",
    "    # concatenating the histograms of Hue, Saturation, and Value and returning\n",
    "    return np.concatenate((hueHist, satHist, valHist))"
   ]
  },
  {
   "cell_type": "markdown",
   "metadata": {},
   "source": [
    "## **Extracting Features** ##"
   ]
  },
  {
   "cell_type": "code",
   "execution_count": null,
   "metadata": {},
   "outputs": [],
   "source": [
    "# Function to extract features and save them as numpy arrays\n",
    "def saveImgFeaturesAsNumpyArr(src_path, save_path, featuresDescriptors = ['colour', 'texture']):\n",
    "    print(f\"Original Image Folder: {src_path}\")\n",
    "    os.makedirs(os.path.dirname(save_path), exist_ok=True)  # creating the save folder if it doesn't exist\n",
    "    print(f\"Saving Image Features Folder: {save_path}\")\n",
    "    \n",
    "    # going through each fruit folder in the source path (train or test)\n",
    "    for fruit_folder in os.listdir(src_path):\n",
    "        fruit_folder_path = os.path.join(src_path, fruit_folder)\n",
    "        \n",
    "        if os.path.isdir(fruit_folder_path):  # checking if the path actually points to a folder\n",
    "            print(f\"Currently Processing Fruit Images of: {fruit_folder}\")\n",
    "            \n",
    "            # going through each image file in the current folder\n",
    "            for img in os.listdir(fruit_folder_path):\n",
    "                img_path = os.path.join(fruit_folder_path, img)\n",
    "                \n",
    "                if img.endswith('.jpg'):  # checking if the file is an jpg image\n",
    "                    img_as_numpy_arr = convertImgToNumpyArr(img_path)\n",
    "                    if img_as_numpy_arr is None:  # handling image processing error\n",
    "                        print(f\"Error processing image {img_path}\")\n",
    "                    else:\n",
    "                        # computing the feature vector (HOG, Colour Histogram, etc.)\n",
    "\n",
    "                        featureMap = {}\n",
    "\n",
    "                        if('shape' in featuresDescriptors):\n",
    "                            hogFeatures, _ = computeHOGFeatures(img_as_numpy_arr)\n",
    "                            featureMap['shape'] = hogFeatures\n",
    "                            # print(\"HOG features shape:\", hogFeatures.shape)\n",
    "\n",
    "                        if('colour' in featuresDescriptors):\n",
    "                            colourHistFeatures = computeColourHist(img_as_numpy_arr)\n",
    "                            featureMap['colour'] = colourHistFeatures\n",
    "                            # print(\"Colour Histogram features shape:\", colourHistFeatures.shape)\n",
    "\n",
    "                        if('texture' in featuresDescriptors):\n",
    "                            lbpFeatures = extract_LBP_features(img_as_numpy_arr)\n",
    "                            featureMap['texture'] = lbpFeatures\n",
    "                            # print(\"LBP features shape:\", lbpFeatures.shape)\n",
    "\n",
    "                        featureVector = np.concatenate([featureMap[feature.lower()] for feature in featuresDescriptors if feature.lower() in featureMap])\n",
    "\n",
    "                        featureVector = featureVector.astype(np.float32) # converting to float32 for saving storage space\n",
    "                        # print(\"Feature vector length:\", len(featureVector))\n",
    "                        \n",
    "                        # creating the respective save path for each feature vector\n",
    "                        subfolder_path = os.path.relpath(fruit_folder_path, src_path)\n",
    "                        save_file_name = f\"{os.path.splitext(img)[0]}.npy\"  # saving file with .npy extension\n",
    "                        img_save_path = os.path.join(save_path, subfolder_path, save_file_name)\n",
    "                        \n",
    "                        # creating the save folder if it doesn't exist\n",
    "                        os.makedirs(os.path.dirname(img_save_path), exist_ok=True)\n",
    "                        np.save(img_save_path, featureVector)"
   ]
  },
  {
   "cell_type": "markdown",
   "metadata": {},
   "source": [
    "## **Image Conversion to Features** ##"
   ]
  },
  {
   "cell_type": "code",
   "execution_count": 8,
   "metadata": {},
   "outputs": [
    {
     "name": "stdout",
     "output_type": "stream",
     "text": [
      "Processing Training Images\n",
      "Original Image Folder: ../../data/fruits-360/Training\n",
      "Saving Image Features Folder: ../features/img_ColourHist_LBP_Hist_Features/Training\n",
      "Currently Processing Fruit Images of: Blackberrie 1\n"
     ]
    },
    {
     "ename": "ValueError",
     "evalue": "need at least one array to concatenate",
     "output_type": "error",
     "traceback": [
      "\u001b[0;31m---------------------------------------------------------------------------\u001b[0m",
      "\u001b[0;31mValueError\u001b[0m                                Traceback (most recent call last)",
      "Cell \u001b[0;32mIn[8], line 7\u001b[0m\n\u001b[1;32m      5\u001b[0m \u001b[38;5;66;03m# Training Images to Features:\u001b[39;00m\n\u001b[1;32m      6\u001b[0m \u001b[38;5;28mprint\u001b[39m(\u001b[38;5;124m\"\u001b[39m\u001b[38;5;124mProcessing Training Images\u001b[39m\u001b[38;5;124m\"\u001b[39m)\n\u001b[0;32m----> 7\u001b[0m \u001b[43msaveImgFeaturesAsNumpyArr\u001b[49m\u001b[43m(\u001b[49m\u001b[43mtrain_path\u001b[49m\u001b[43m,\u001b[49m\u001b[43m \u001b[49m\u001b[38;5;124;43m'\u001b[39;49m\u001b[38;5;124;43m../features/img_ColourHist_LBP_Hist_Features/Training\u001b[39;49m\u001b[38;5;124;43m'\u001b[39;49m\u001b[43m)\u001b[49m\n\u001b[1;32m      9\u001b[0m \u001b[38;5;66;03m# Testing Images to Features:\u001b[39;00m\n\u001b[1;32m     10\u001b[0m \u001b[38;5;28mprint\u001b[39m(\u001b[38;5;124m\"\u001b[39m\u001b[38;5;124mProcessing Testing Images\u001b[39m\u001b[38;5;124m\"\u001b[39m)\n",
      "Cell \u001b[0;32mIn[6], line 42\u001b[0m, in \u001b[0;36msaveImgFeaturesAsNumpyArr\u001b[0;34m(src_path, save_path, featuresDescriptors)\u001b[0m\n\u001b[1;32m     39\u001b[0m     featureMap[\u001b[38;5;124m'\u001b[39m\u001b[38;5;124mtexture\u001b[39m\u001b[38;5;124m'\u001b[39m] \u001b[38;5;241m=\u001b[39m lbpFeatures\n\u001b[1;32m     40\u001b[0m     \u001b[38;5;66;03m# print(\"LBP features shape:\", lbpFeatures.shape)\u001b[39;00m\n\u001b[0;32m---> 42\u001b[0m featureVector \u001b[38;5;241m=\u001b[39m \u001b[43mnp\u001b[49m\u001b[38;5;241;43m.\u001b[39;49m\u001b[43mconcatenate\u001b[49m\u001b[43m(\u001b[49m\u001b[43m[\u001b[49m\u001b[43mfeatureMap\u001b[49m\u001b[43m[\u001b[49m\u001b[43mfeature\u001b[49m\u001b[38;5;241;43m.\u001b[39;49m\u001b[43mlower\u001b[49m\u001b[43m(\u001b[49m\u001b[43m)\u001b[49m\u001b[43m]\u001b[49m\u001b[43m \u001b[49m\u001b[38;5;28;43;01mfor\u001b[39;49;00m\u001b[43m \u001b[49m\u001b[43mfeature\u001b[49m\u001b[43m \u001b[49m\u001b[38;5;129;43;01min\u001b[39;49;00m\u001b[43m \u001b[49m\u001b[43mfeaturesDescriptors\u001b[49m\u001b[43m \u001b[49m\u001b[38;5;28;43;01mif\u001b[39;49;00m\u001b[43m \u001b[49m\u001b[43mfeature\u001b[49m\u001b[38;5;241;43m.\u001b[39;49m\u001b[43mlower\u001b[49m\u001b[43m(\u001b[49m\u001b[43m)\u001b[49m\u001b[43m \u001b[49m\u001b[38;5;129;43;01min\u001b[39;49;00m\u001b[43m \u001b[49m\u001b[43mfeatureMap\u001b[49m\u001b[43m]\u001b[49m\u001b[43m)\u001b[49m\n\u001b[1;32m     44\u001b[0m featureVector \u001b[38;5;241m=\u001b[39m featureVector\u001b[38;5;241m.\u001b[39mastype(np\u001b[38;5;241m.\u001b[39mfloat32) \u001b[38;5;66;03m# converting to float32 for saving storage space\u001b[39;00m\n\u001b[1;32m     45\u001b[0m \u001b[38;5;66;03m# print(\"Feature vector length:\", len(featureVector))\u001b[39;00m\n\u001b[1;32m     46\u001b[0m \n\u001b[1;32m     47\u001b[0m \u001b[38;5;66;03m# creating the respective save path for each feature vector\u001b[39;00m\n",
      "\u001b[0;31mValueError\u001b[0m: need at least one array to concatenate"
     ]
    }
   ],
   "source": [
    "# Paths to the train and test folders\n",
    "train_path = '../../data/fruits-360/Training'\n",
    "test_path = '../../data/fruits-360/Test'\n",
    "\n",
    "# Training Images to Features:\n",
    "print(\"Processing Training Images\")\n",
    "saveImgFeaturesAsNumpyArr(train_path, '../features/img_ColourHist_LBP_Hist_Features/Training')\n",
    "\n",
    "# Testing Images to Features:\n",
    "print(\"Processing Testing Images\")\n",
    "saveImgFeaturesAsNumpyArr(test_path, '../features/img_ColourHist_LBP_Hist_Features/Testing')"
   ]
  }
 ],
 "metadata": {
  "kernelspec": {
   "display_name": "PRML",
   "language": "python",
   "name": "python3"
  },
  "language_info": {
   "codemirror_mode": {
    "name": "ipython",
    "version": 3
   },
   "file_extension": ".py",
   "mimetype": "text/x-python",
   "name": "python",
   "nbconvert_exporter": "python",
   "pygments_lexer": "ipython3",
   "version": "3.11.11"
  }
 },
 "nbformat": 4,
 "nbformat_minor": 2
}
