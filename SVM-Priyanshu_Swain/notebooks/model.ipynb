{
 "cells": [
  {
   "cell_type": "markdown",
   "metadata": {},
   "source": [
    "## **Import Libraries** ##"
   ]
  },
  {
   "cell_type": "code",
   "execution_count": 13,
   "metadata": {},
   "outputs": [],
   "source": [
    "import os\n",
    "import numpy as np\n",
    "from sklearn.svm import SVC\n",
    "from sklearn.metrics import accuracy_score\n",
    "from tqdm import tqdm  # for the progress bar\n",
    "import joblib"
   ]
  },
  {
   "cell_type": "markdown",
   "metadata": {},
   "source": [
    "## **Loading Feature Vectors and Their Labels** ##"
   ]
  },
  {
   "cell_type": "code",
   "execution_count": 14,
   "metadata": {},
   "outputs": [],
   "source": [
    "# Function to Load Feature Vectors and Labels\n",
    "def loadFeaturesAndLabels(features_path):\n",
    "\n",
    "    features = [] # list to store the feature vectors\n",
    "    labels = [] # list to store the labels\n",
    "    \n",
    "    # checking if the path exists\n",
    "    if not os.path.exists(features_path):\n",
    "        raise ValueError(f\"Path {features_path} does not exist.\")\n",
    "    # checking if the path is a directory\n",
    "    if not os.path.isdir(features_path):\n",
    "        raise ValueError(f\"Path {features_path} is not a directory.\")\n",
    "    \n",
    "    # going through through the folders and load the features\n",
    "    for fruit_folder in tqdm(os.listdir(features_path), unit=\"folder\", desc=f\"Loading Features from {features_path}\"):\n",
    "\n",
    "        fruit_folder_path = os.path.join(features_path, fruit_folder) # creating complete path of the fruit folder\n",
    "        \n",
    "        if os.path.isdir(fruit_folder_path):  # checking if it's an valid path to a folder\n",
    "            for featureVectorFile in os.listdir(fruit_folder_path):\n",
    "\n",
    "                feature_file_path = os.path.join(fruit_folder_path, featureVectorFile) # creating complete path of the feature file\n",
    "                \n",
    "                if featureVectorFile.endswith('.npy'):  # checking if its a valid feature file\n",
    "                    labels.append(fruit_folder[:-2].strip())  # the folder name is the label (not taking the numbers at the end)\n",
    "\n",
    "                    featureVector = np.load(feature_file_path)\n",
    "                    features.append(featureVector)\n",
    "                    \n",
    "                    \n",
    "    return np.array(features), np.array(labels)"
   ]
  },
  {
   "cell_type": "code",
   "execution_count": 3,
   "metadata": {},
   "outputs": [
    {
     "name": "stderr",
     "output_type": "stream",
     "text": [
      "Loading Features from ../features/img_ColourHist_Features/Training: 100%|██████████| 160/160 [00:08<00:00, 18.81folder/s]\n",
      "Loading Features from ../features/img_ColourHist_Features/Testing: 100%|██████████| 159/159 [00:03<00:00, 52.71folder/s]\n"
     ]
    }
   ],
   "source": [
    "# loading the train and test feature data (only colour histogram features)\n",
    "trainFeatures, trainLabels = loadFeaturesAndLabels('../features/img_ColourHist_Features/Training')\n",
    "testFeatures, testLabels = loadFeaturesAndLabels('../features/img_ColourHist_Features/Testing')"
   ]
  },
  {
   "cell_type": "code",
   "execution_count": 4,
   "metadata": {},
   "outputs": [
    {
     "name": "stdout",
     "output_type": "stream",
     "text": [
      "Training Features Shape: (79921, 60)\n",
      "Testing Features Shape: (26668, 60)\n",
      "Number of Labels: 132\n"
     ]
    }
   ],
   "source": [
    "print(f\"Training Features Shape: {trainFeatures.shape}\")\n",
    "print(f\"Testing Features Shape: {testFeatures.shape}\")\n",
    "print(f\"Number of Labels: {len(np.unique(trainLabels))}\")"
   ]
  },
  {
   "cell_type": "markdown",
   "metadata": {},
   "source": [
    "## **SVM 1 (only Colour Histogram Features)** ##"
   ]
  },
  {
   "cell_type": "code",
   "execution_count": 5,
   "metadata": {},
   "outputs": [
    {
     "name": "stdout",
     "output_type": "stream",
     "text": [
      "Linear SVM Test Accuracy: 98.05%\n"
     ]
    }
   ],
   "source": [
    "# training\n",
    "SVM_1 = SVC(kernel='linear')  # linear SVM classifier\n",
    "SVM_1.fit(trainFeatures, trainLabels)\n",
    "\n",
    "# predicting on test data\n",
    "testPredictions1 = SVM_1.predict(testFeatures)\n",
    "\n",
    "# finding and printing the accuracy\n",
    "accuracy1 = accuracy_score(testLabels, testPredictions1)\n",
    "print(f\"Linear SVM Test Accuracy: {accuracy1 * 100:.2f}%\")\n"
   ]
  },
  {
   "cell_type": "code",
   "execution_count": 6,
   "metadata": {},
   "outputs": [
    {
     "name": "stdout",
     "output_type": "stream",
     "text": [
      "Model 1 successfully saved to ../saved_models/SVM_Model_1.pkl\n"
     ]
    }
   ],
   "source": [
    "# saving SVM Model 1\n",
    "model_filename1 = '../saved_models/SVM_Model_1.pkl'\n",
    "joblib.dump(SVM_1, model_filename1)\n",
    "print(f\"Model 1 successfully saved to {model_filename1}\")"
   ]
  },
  {
   "cell_type": "markdown",
   "metadata": {},
   "source": [
    "## **SVM 2 (Polynomial SVM)** ##"
   ]
  },
  {
   "cell_type": "code",
   "execution_count": 7,
   "metadata": {},
   "outputs": [
    {
     "name": "stdout",
     "output_type": "stream",
     "text": [
      "Polynomial SVM Test Accuracy: 97.25%\n"
     ]
    }
   ],
   "source": [
    "# training\n",
    "SVM_2 = SVC(kernel='poly')  # polynomial SVM classifier\n",
    "SVM_2.fit(trainFeatures, trainLabels)\n",
    "\n",
    "# predicting on test data\n",
    "testPredictions2 = SVM_2.predict(testFeatures)\n",
    "\n",
    "# finding and printing the accuracy\n",
    "accuracy2 = accuracy_score(testLabels, testPredictions2)\n",
    "print(f\"Polynomial SVM Test Accuracy: {accuracy2 * 100:.2f}%\")"
   ]
  },
  {
   "cell_type": "code",
   "execution_count": 8,
   "metadata": {},
   "outputs": [
    {
     "name": "stdout",
     "output_type": "stream",
     "text": [
      "Model 2 successfully saved to ../saved_models/SVM_Model_2.pkl\n"
     ]
    }
   ],
   "source": [
    "# saving SVM Model 2\n",
    "model_filename2 = '../saved_models/SVM_Model_2.pkl'\n",
    "joblib.dump(SVM_2, model_filename2)\n",
    "print(f\"Model 2 successfully saved to {model_filename2}\")"
   ]
  },
  {
   "cell_type": "markdown",
   "metadata": {},
   "source": [
    "## **SVM 3 (RBF SVM)** ##"
   ]
  },
  {
   "cell_type": "code",
   "execution_count": 9,
   "metadata": {},
   "outputs": [
    {
     "name": "stdout",
     "output_type": "stream",
     "text": [
      "RBF SVM Test Accuracy: 96.56%\n"
     ]
    }
   ],
   "source": [
    "# training\n",
    "SVM_3 = SVC(kernel='rbf')  # polynomial SVM classifier\n",
    "SVM_3.fit(trainFeatures, trainLabels)\n",
    "\n",
    "# predicting on test data\n",
    "testPredictions3 = SVM_3.predict(testFeatures)\n",
    "\n",
    "# finding and printing the accuracy\n",
    "accuracy3 = accuracy_score(testLabels, testPredictions3)\n",
    "print(f\"RBF SVM Test Accuracy: {accuracy3 * 100:.2f}%\")"
   ]
  },
  {
   "cell_type": "code",
   "execution_count": 10,
   "metadata": {},
   "outputs": [
    {
     "name": "stdout",
     "output_type": "stream",
     "text": [
      "Model 3 successfully saved to ../saved_models/SVM_Model_3.pkl\n"
     ]
    }
   ],
   "source": [
    "# saving SVM Model 3\n",
    "model_filename3 = '../saved_models/SVM_Model_3.pkl'\n",
    "joblib.dump(SVM_3, model_filename3)\n",
    "print(f\"Model 3 successfully saved to {model_filename3}\")"
   ]
  },
  {
   "cell_type": "markdown",
   "metadata": {},
   "source": [
    "## **PCA + Linear SVM 1 (PCA on Colour Histogram and HOG Features)** ##"
   ]
  },
  {
   "cell_type": "code",
   "execution_count": 11,
   "metadata": {},
   "outputs": [
    {
     "name": "stderr",
     "output_type": "stream",
     "text": [
      "Loading Features from ../features/img_HOG_ColourHist_Features/Training: 100%|██████████| 160/160 [00:08<00:00, 18.62folder/s]\n",
      "Loading Features from ../features/img_HOG_ColourHist_Features/Testing: 100%|██████████| 159/159 [00:02<00:00, 56.81folder/s]\n"
     ]
    },
    {
     "name": "stdout",
     "output_type": "stream",
     "text": [
      "Training Features Shape: (79921, 960)\n",
      "Testing Features Shape: (26668, 960)\n",
      "Number of Labels: 132\n",
      "PCA Training Features Shape: (79921, 30)\n",
      "PCA Testing Features Shape: (26668, 30)\n",
      "PCA + Linear SVM Test Accuracy: 97.98%\n"
     ]
    }
   ],
   "source": [
    "from sklearn.decomposition import PCA\n",
    "\n",
    "# loading the train and test feature data (HOG and Colour Histogram features)\n",
    "trainFeatures2, trainLabelsPCA = loadFeaturesAndLabels('../features/img_HOG_ColourHist_Features/Training')\n",
    "testFeatures2, testLabelsPCA = loadFeaturesAndLabels('../features/img_HOG_ColourHist_Features/Testing')\n",
    "\n",
    "print(f\"Training Features Shape: {trainFeatures2.shape}\")\n",
    "print(f\"Testing Features Shape: {testFeatures2.shape}\")\n",
    "print(f\"Number of Labels: {len(np.unique(trainLabelsPCA))}\")\n",
    "\n",
    "# applying PCA\n",
    "pca = PCA(n_components=30)\n",
    "trainFeaturesPCA = pca.fit_transform(trainFeatures2)\n",
    "testFeaturesPCA = pca.transform(testFeatures2)\n",
    "\n",
    "print(f\"PCA Training Features Shape: {trainFeaturesPCA.shape}\")\n",
    "print(f\"PCA Testing Features Shape: {testFeaturesPCA.shape}\")\n",
    "\n",
    "# training\n",
    "PCA_SVM = SVC(kernel='linear')  # linear SVM classifier\n",
    "PCA_SVM.fit(trainFeaturesPCA, trainLabelsPCA)\n",
    "\n",
    "# predicting on test data\n",
    "testPredictionsPCA = PCA_SVM.predict(testFeaturesPCA)\n",
    "\n",
    "# finding and printing the accuracy\n",
    "accuracyPCA = accuracy_score(testLabelsPCA, testPredictionsPCA)\n",
    "print(f\"PCA + Linear SVM Test Accuracy: {accuracyPCA * 100:.2f}%\")"
   ]
  },
  {
   "cell_type": "code",
   "execution_count": 12,
   "metadata": {},
   "outputs": [
    {
     "name": "stdout",
     "output_type": "stream",
     "text": [
      "PCA + SVM Model successfully saved to ../saved_models/PCA_SVM_Model_1.pkl\n"
     ]
    }
   ],
   "source": [
    "# saving PCA + SVM Model 1\n",
    "model_filename_PCA = '../saved_models/PCA_SVM_Model_1.pkl'\n",
    "joblib.dump(PCA_SVM, model_filename_PCA)\n",
    "print(f\"PCA + SVM Model successfully saved to {model_filename_PCA}\")"
   ]
  },
  {
   "cell_type": "markdown",
   "metadata": {},
   "source": [
    "## **PCA + Linear SVM (PCA on Colour Histogram and LBP Histogram Features)** ##"
   ]
  },
  {
   "cell_type": "code",
   "execution_count": null,
   "metadata": {},
   "outputs": [
    {
     "name": "stderr",
     "output_type": "stream",
     "text": [
      "Loading Features from ../features/img_ColourHist_LBP_Hist_Features/Training: 100%|██████████| 160/160 [00:08<00:00, 19.88folder/s]\n",
      "Loading Features from ../features/img_ColourHist_LBP_Hist_Features/Testing: 100%|██████████| 159/159 [00:02<00:00, 59.53folder/s]\n"
     ]
    },
    {
     "name": "stdout",
     "output_type": "stream",
     "text": [
      "Training Features Shape: (79921, 70)\n",
      "Testing Features Shape: (26668, 70)\n",
      "Number of Labels: 132\n",
      "PCA Training Features Shape: (79921, 30)\n",
      "PCA Testing Features Shape: (26668, 30)\n",
      "PCA + Linear SVM 2 Test Accuracy: 97.98%\n"
     ]
    }
   ],
   "source": [
    "from sklearn.decomposition import PCA\n",
    "\n",
    "# loading the train and test feature data (LBP Histogram and Colour Histogram features)\n",
    "trainFeatures3, trainLabelsPCA2 = loadFeaturesAndLabels('../features/img_ColourHist_LBP_Hist_Features/Training')\n",
    "testFeatures3, testLabelsPCA2 = loadFeaturesAndLabels('../features/img_ColourHist_LBP_Hist_Features/Testing')\n",
    "\n",
    "print(f\"Training Features Shape: {trainFeatures3.shape}\")\n",
    "print(f\"Testing Features Shape: {testFeatures3.shape}\")\n",
    "print(f\"Number of Labels: {len(np.unique(trainLabelsPCA2))}\")\n",
    "\n",
    "# applying PCA\n",
    "pca = PCA(n_components=70)\n",
    "trainFeaturesPCA2 = pca.fit_transform(trainFeatures3)\n",
    "testFeaturesPCA2 = pca.transform(testFeatures3)\n",
    "\n",
    "print(f\"PCA Training Features Shape: {trainFeaturesPCA2.shape}\")\n",
    "print(f\"PCA Testing Features Shape: {testFeaturesPCA2.shape}\")\n",
    "\n",
    "# training\n",
    "PCA_SVM_2 = SVC(kernel='linear')  # linear SVM classifier\n",
    "PCA_SVM_2.fit(trainFeaturesPCA2, trainLabelsPCA2)\n",
    "\n",
    "# predicting on test data\n",
    "testPredictionsPCA2 = PCA_SVM_2.predict(testFeaturesPCA2)\n",
    "\n",
    "# finding and printing the accuracy\n",
    "accuracyPCA2 = accuracy_score(testLabelsPCA2, testPredictionsPCA2)\n",
    "print(f\"PCA + Linear SVM 2 Test Accuracy: {accuracyPCA2 * 100:.2f}%\")"
   ]
  },
  {
   "cell_type": "code",
   "execution_count": null,
   "metadata": {},
   "outputs": [
    {
     "name": "stdout",
     "output_type": "stream",
     "text": [
      "PCA + SVM Model successfully saved to ../saved_models/PCA_SVM_Model_1.pkl\n"
     ]
    }
   ],
   "source": [
    "# saving PCA + SVM Model 2\n",
    "model_filename_PCA_2 = '../saved_models/PCA_SVM_Model_2.pkl'\n",
    "joblib.dump(PCA_SVM_2, model_filename_PCA_2)\n",
    "print(f\"PCA + SVM Model successfully saved to {model_filename_PCA_2}\")"
   ]
  }
 ],
 "metadata": {
  "kernelspec": {
   "display_name": "PRML",
   "language": "python",
   "name": "python3"
  },
  "language_info": {
   "codemirror_mode": {
    "name": "ipython",
    "version": 3
   },
   "file_extension": ".py",
   "mimetype": "text/x-python",
   "name": "python",
   "nbconvert_exporter": "python",
   "pygments_lexer": "ipython3",
   "version": "3.11.11"
  }
 },
 "nbformat": 4,
 "nbformat_minor": 2
}
