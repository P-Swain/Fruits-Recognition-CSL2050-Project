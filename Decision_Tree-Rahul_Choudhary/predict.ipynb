{
 "cells": [
  {
   "cell_type": "code",
   "execution_count": 1,
   "id": "ed4cc9e4",
   "metadata": {},
   "outputs": [],
   "source": [
    "from joblib import load\n",
    "import numpy as np\n",
    "import cv2\n",
    "from skimage.feature import hog, local_binary_pattern as lbp\n",
    "from PIL import Image\n",
    "\n",
    "# Load model and scaler\n",
    "clf = load('random_forest_model.pkl')  \n",
    "scaler = load('scaler.pkl')"
   ]
  },
  {
   "cell_type": "code",
   "execution_count": 2,
   "id": "fd5d095d",
   "metadata": {},
   "outputs": [],
   "source": [
    "from skimage import exposure\n",
    "# Function to load image data and convert to numpy array\n",
    "def convertImgToNumpyArr(image_path):\n",
    "    try:\n",
    "        img = Image.open(image_path)  # creating reference variable img to access image data\n",
    "        img = img.resize((100, 100))  # resize image to 100x100 in case it is not\n",
    "        img = np.array(img)  # converting image data from JPG to numpy array\n",
    "        #img = img / 255.0  # normalizing RGB values (cv2 needs 0-255 range)\n",
    "        return img\n",
    "    except Exception as e:\n",
    "        print(f\"Error processing image {image_path}: {e}\")  # error handling\n",
    "        return None\n",
    "\n",
    "# Function to compute colour histogram features for an image\n",
    "\n",
    "def computeColourHist(image, bins=20):\n",
    "\n",
    "    # conversion from RGB to HSV\n",
    "    hsvImg = cv2.cvtColor(image, cv2.COLOR_RGB2HSV)\n",
    "    \n",
    "    hsvImg = hsvImg / 255.0  # normalizing\n",
    "    \n",
    "    # extracting histograms for Hue, Saturation, and Value\n",
    "    hueHist = np.histogram(hsvImg[:,:,0], bins=bins, range=(0, 1))[0]  \n",
    "    satHist = np.histogram(hsvImg[:,:,1], bins=bins, range=(0, 1))[0]  \n",
    "    valHist = np.histogram(hsvImg[:,:,2], bins=bins, range=(0, 1))[0]  \n",
    "    \n",
    "    # concatenating the histograms of Hue, Saturation, and Value and returning\n",
    "    return np.concatenate((hueHist, satHist, valHist))\n",
    "\n",
    "def computeLBP_Features(image):\n",
    "\n",
    "     # conversion to grayscale\n",
    "    gray = cv2.cvtColor(image, cv2.COLOR_RGB2GRAY)\n",
    "\n",
    "    # computing LBP features\n",
    "    lbpImg = lbp(gray, method=\"uniform\", P = 8, R = 1) \n",
    "    \n",
    "    bins = np.arange(0, 11) # number of bins for histogram (10)\n",
    "    lbpHist, _ = np.histogram(lbpImg.flatten(), bins=bins, range=(0, 10)) # computing histogram\n",
    "\n",
    "    return lbpHist / (np.sum(lbpHist) + 1e-6)\n",
    "\n",
    "def extract_features(image_path):\n",
    "    img = convertImgToNumpyArr(image_path)\n",
    "    ch_features = computeColourHist(img)\n",
    "    lbp_features = computeLBP_Features(img)\n",
    "    return np.concatenate([ch_features, lbp_features])  # Combine HOG + LBP"
   ]
  },
  {
   "cell_type": "code",
   "execution_count": 4,
   "id": "d6733e9c",
   "metadata": {},
   "outputs": [
    {
     "name": "stdout",
     "output_type": "stream",
     "text": [
      "Predicted class: Apple\n"
     ]
    }
   ],
   "source": [
    "# Path to new image\n",
    "new_image_path = \"apple.jpg\"  # Change this to your image path\n",
    "\n",
    "# Extract features (HOG + LBP only)\n",
    "features = extract_features(new_image_path).reshape(1, -1)  # Reshape to 2D array (1 sample, n features)\n",
    "\n",
    "# Scale features (use the same scaler!)\n",
    "scaled_features = scaler.transform(features)\n",
    "\n",
    "# Predict\n",
    "predicted_class = clf.predict(scaled_features)[0]\n",
    "print(f\"Predicted class: {predicted_class}\")"
   ]
  }
 ],
 "metadata": {
  "kernelspec": {
   "display_name": "Python 3",
   "language": "python",
   "name": "python3"
  },
  "language_info": {
   "codemirror_mode": {
    "name": "ipython",
    "version": 3
   },
   "file_extension": ".py",
   "mimetype": "text/x-python",
   "name": "python",
   "nbconvert_exporter": "python",
   "pygments_lexer": "ipython3",
   "version": "3.11.9"
  }
 },
 "nbformat": 4,
 "nbformat_minor": 5
}
