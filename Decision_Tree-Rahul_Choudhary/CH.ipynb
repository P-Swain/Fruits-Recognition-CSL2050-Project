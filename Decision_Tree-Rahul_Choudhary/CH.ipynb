{
 "cells": [
  {
   "cell_type": "code",
   "execution_count": 1,
   "id": "deea220b",
   "metadata": {},
   "outputs": [],
   "source": [
    "import os\n",
    "import numpy as np\n",
    "from sklearn.svm import SVC\n",
    "from sklearn.metrics import accuracy_score\n",
    "from tqdm import tqdm  # for the progress bar\n",
    "import joblib"
   ]
  },
  {
   "cell_type": "code",
   "execution_count": 2,
   "id": "26442b36",
   "metadata": {},
   "outputs": [],
   "source": [
    "# Function to Load Feature Vectors and Labels\n",
    "def loadFeaturesAndLabels(features_path):\n",
    "\n",
    "    features = [] # list to store the feature vectors\n",
    "    labels = [] # list to store the labels\n",
    "    \n",
    "    # checking if the path exists\n",
    "    if not os.path.exists(features_path):\n",
    "        raise ValueError(f\"Path {features_path} does not exist.\")\n",
    "    # checking if the path is a directory\n",
    "    if not os.path.isdir(features_path):\n",
    "        raise ValueError(f\"Path {features_path} is not a directory.\")\n",
    "    \n",
    "    # going through through the folders and load the features\n",
    "    for fruit_folder in tqdm(os.listdir(features_path), unit=\"folder\", desc=f\"Loading Features from {features_path}\"):\n",
    "\n",
    "        fruit_folder_path = os.path.join(features_path, fruit_folder) # creating complete path of the fruit folder\n",
    "        \n",
    "        if os.path.isdir(fruit_folder_path):  # checking if it's an valid path to a folder\n",
    "            for featureVectorFile in os.listdir(fruit_folder_path):\n",
    "\n",
    "                feature_file_path = os.path.join(fruit_folder_path, featureVectorFile) # creating complete path of the feature file\n",
    "                \n",
    "                if featureVectorFile.endswith('.npy'):  # checking if its a valid feature file\n",
    "                    labels.append(fruit_folder[:-2].strip())  # the folder name is the label (not taking the numbers at the end)\n",
    "\n",
    "                    featureVector = np.load(feature_file_path)\n",
    "                    features.append(featureVector)\n",
    "                    \n",
    "                    \n",
    "    return np.array(features), np.array(labels)"
   ]
  },
  {
   "cell_type": "code",
   "execution_count": 3,
   "id": "11aee159",
   "metadata": {},
   "outputs": [
    {
     "name": "stderr",
     "output_type": "stream",
     "text": [
      "Loading Features from img_ColourHist_Features/img_ColourHist_Features/Training: 100%|██████████| 160/160 [15:03<00:00,  5.65s/folder]\n",
      "Loading Features from img_ColourHist_Features/img_ColourHist_Features/Testing: 100%|██████████| 159/159 [05:15<00:00,  1.98s/folder]\n"
     ]
    },
    {
     "name": "stdout",
     "output_type": "stream",
     "text": [
      "Training Features Shape: (79921, 60)\n",
      "Testing Features Shape: (26668, 60)\n",
      "Number of Labels: 132\n",
      "Training Random Forest Classifier...\n",
      "Predicting test data...\n",
      "Random Forest Accuracy: 0.9903\n"
     ]
    }
   ],
   "source": [
    "from sklearn.ensemble import RandomForestClassifier\n",
    "from sklearn.metrics import accuracy_score\n",
    "\n",
    "# loading the train and test feature data (only LBP histogram features)\n",
    "trainX_CH, trainY_CH = loadFeaturesAndLabels('img_ColourHist_Features/img_ColourHist_Features/Training')\n",
    "testX_CH, testY_CH = loadFeaturesAndLabels('img_ColourHist_Features/img_ColourHist_Features/Testing')\n",
    "\n",
    "print(f\"Training Features Shape: {trainX_CH.shape}\")\n",
    "print(f\"Testing Features Shape: {testX_CH.shape}\")\n",
    "print(f\"Number of Labels: {len(np.unique(trainY_CH))}\")\n",
    "\n",
    "print(\"Training Random Forest Classifier...\")\n",
    "clf = RandomForestClassifier(n_estimators=100, criterion='gini', max_depth=None, random_state=42)\n",
    "clf.fit(trainX_CH, trainY_CH)\n",
    "\n",
    "print(\"Predicting test data...\")\n",
    "y_pred = clf.predict(testX_CH)\n",
    "\n",
    "accuracy = accuracy_score(testY_CH, y_pred)\n",
    "print(f\"Random Forest Accuracy: {accuracy:.4f}\")"
   ]
  },
  {
   "cell_type": "code",
   "execution_count": 4,
   "id": "010a7780",
   "metadata": {},
   "outputs": [
    {
     "name": "stdout",
     "output_type": "stream",
     "text": [
      "random forest model successfully saved to random_forest_model2.pkl\n"
     ]
    }
   ],
   "source": [
    "from joblib import dump\n",
    "\n",
    "# Save the model to a .pkl file\n",
    "dump(clf, 'random_forest_model2.pkl')\n",
    "print(f\"random forest model successfully saved to random_forest_model2.pkl\")"
   ]
  }
 ],
 "metadata": {
  "kernelspec": {
   "display_name": "Python 3",
   "language": "python",
   "name": "python3"
  },
  "language_info": {
   "codemirror_mode": {
    "name": "ipython",
    "version": 3
   },
   "file_extension": ".py",
   "mimetype": "text/x-python",
   "name": "python",
   "nbconvert_exporter": "python",
   "pygments_lexer": "ipython3",
   "version": "3.11.9"
  }
 },
 "nbformat": 4,
 "nbformat_minor": 5
}
