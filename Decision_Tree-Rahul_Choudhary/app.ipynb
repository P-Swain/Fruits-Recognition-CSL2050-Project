{
 "cells": [
  {
   "cell_type": "code",
   "execution_count": null,
   "id": "5e43d9ff",
   "metadata": {},
   "outputs": [],
   "source": [
    "import gradio as gr\n",
    "import numpy as np\n",
    "import cv2\n",
    "import joblib\n",
    "from skimage.feature import local_binary_pattern as lbp\n",
    "from skimage import exposure\n",
    "\n",
    "# Function to compute colour histogram features for an image\n",
    "def computeColourHist(image, bins=20):\n",
    "    hsvImg = cv2.cvtColor(image, cv2.COLOR_RGB2HSV)\n",
    "    hsvImg = hsvImg / 255.0\n",
    "    hueHist = np.histogram(hsvImg[:,:,0], bins=bins, range=(0, 1))[0]\n",
    "    satHist = np.histogram(hsvImg[:,:,1], bins=bins, range=(0, 1))[0]\n",
    "    valHist = np.histogram(hsvImg[:,:,2], bins=bins, range=(0, 1))[0]\n",
    "    return np.concatenate((hueHist, satHist, valHist))\n",
    "\n",
    "def computeLBP_Features(image):\n",
    "    gray = cv2.cvtColor(image, cv2.COLOR_RGB2GRAY)\n",
    "    lbpImg = lbp(gray, method=\"uniform\", P=8, R=1)\n",
    "    bins = np.arange(0, 11)\n",
    "    lbpHist, _ = np.histogram(lbpImg.flatten(), bins=bins, range=(0, 10))\n",
    "    return lbpHist / (np.sum(lbpHist) + 1e-6)\n",
    "\n",
    "def extract_features(image):\n",
    "    image = cv2.resize(image, (100, 100))  # resize to match training input\n",
    "    ch_features = computeColourHist(image)\n",
    "    lbp_features = computeLBP_Features(image)\n",
    "    return np.concatenate([ch_features, lbp_features])\n",
    "\n",
    "# Load the trained model\n",
    "model = joblib.load(\"random_forest_model.pkl\")\n",
    "scaler = joblib.load('scaler.pkl')\n",
    "\n",
    "def predict(image):\n",
    "    features = extract_features(image).reshape(1, -1)\n",
    "    scaled_features = scaler.transform(features) # Scale the features\n",
    "    prediction = model.predict(scaled_features)[0]\n",
    "    return f\"Predicted Fruit: {prediction}\"\n",
    "\n",
    "# Gradio Interface\n",
    "interface = gr.Interface(\n",
    "    fn=predict,\n",
    "    inputs=gr.Image(type=\"numpy\"),\n",
    "    outputs=\"text\",\n",
    "    title=\"Fruit Classifier (LBP + Color Histogram)\",\n",
    "    description=\"Upload an image of a fruit to classify it using a Random Forest model.\"\n",
    ")\n",
    "\n",
    "interface.launch()"
   ]
  }
 ],
 "metadata": {
  "kernelspec": {
   "display_name": "Python 3",
   "language": "python",
   "name": "python3"
  },
  "language_info": {
   "codemirror_mode": {
    "name": "ipython",
    "version": 3
   },
   "file_extension": ".py",
   "mimetype": "text/x-python",
   "name": "python",
   "nbconvert_exporter": "python",
   "pygments_lexer": "ipython3",
   "version": "3.11.9"
  }
 },
 "nbformat": 4,
 "nbformat_minor": 5
}
