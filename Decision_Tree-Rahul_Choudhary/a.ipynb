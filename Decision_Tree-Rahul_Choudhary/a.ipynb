{
 "cells": [
  {
   "cell_type": "code",
   "execution_count": 1,
   "metadata": {},
   "outputs": [],
   "source": [
    "import os\n",
    "import numpy as np\n",
    "from PIL import Image\n",
    "from skimage.feature import hog\n",
    "from skimage import exposure\n",
    "import cv2"
   ]
  },
  {
   "cell_type": "code",
   "execution_count": 2,
   "metadata": {},
   "outputs": [],
   "source": [
    "# Function to load image data and convert to numpy array\n",
    "def convertImgToNumpyArr(image_path):\n",
    "    try:\n",
    "        img = Image.open(image_path)  # creating reference variable img to access image data\n",
    "        img = img.resize((100, 100))  # resize image to 100x100 in case it is not\n",
    "        img = np.array(img)  # converting image data from JPG to numpy array\n",
    "        #img = img / 255.0  # normalizing RGB values (cv2 needs 0-255 range)\n",
    "        return img\n",
    "    except Exception as e:\n",
    "        print(f\"Error processing image {image_path}: {e}\")  # error handling\n",
    "        return None"
   ]
  },
  {
   "cell_type": "code",
   "execution_count": 3,
   "metadata": {},
   "outputs": [],
   "source": [
    "# Function to compute HOG features of an image\n",
    "def computeHOGFeatures(image):\n",
    "    \n",
    "    # conversion to grayscale\n",
    "    grayImg = cv2.cvtColor(image, cv2.COLOR_RGB2GRAY)\n",
    "    grayImg = grayImg / 255.0  # normalizing\n",
    "\n",
    "    # computing HOG features\n",
    "    fd, hogImg = hog(grayImg, pixels_per_cell=(8,8), orientations=9, cells_per_block=(2, 2), visualize=True) # 9 orientations, 8x8 pixels per cell, 2x2 cells per block\n",
    "\n",
    "    # increasing the contrast of the image\n",
    "    hogImg = exposure.rescale_intensity(hogImg, in_range=(0, 10))\n",
    "\n",
    "    return fd, hogImg"
   ]
  },
  {
   "cell_type": "code",
   "execution_count": 4,
   "metadata": {},
   "outputs": [],
   "source": [
    "# Function to compute colour histogram features for an image\n",
    "\n",
    "def computeColourHist(image, bins=20):\n",
    "\n",
    "    # conversion from RGB to HSV\n",
    "    hsvImg = cv2.cvtColor(image, cv2.COLOR_RGB2HSV)\n",
    "    \n",
    "    hsvImg = hsvImg / 255.0  # normalizing\n",
    "    \n",
    "    # extracting histograms for Hue, Saturation, and Value\n",
    "    hueHist = np.histogram(hsvImg[:,:,0], bins=bins, range=(0, 1))[0]  \n",
    "    satHist = np.histogram(hsvImg[:,:,1], bins=bins, range=(0, 1))[0]  \n",
    "    valHist = np.histogram(hsvImg[:,:,2], bins=bins, range=(0, 1))[0]  \n",
    "    \n",
    "    # concatenating the histograms of Hue, Saturation, and Value and returning\n",
    "    return np.concatenate((hueHist, satHist, valHist))"
   ]
  },
  {
   "cell_type": "code",
   "execution_count": 6,
   "metadata": {},
   "outputs": [],
   "source": [
    "# Function to extract features and save them as numpy arrays\n",
    "def saveImgFeaturesAsNumpyArr(src_path, save_path):\n",
    "    print(f\"Original Image Folder: {src_path}\")\n",
    "    os.makedirs(os.path.dirname(save_path), exist_ok=True)  # creating the save folder if it doesn't exist\n",
    "    print(f\"Saving Image Features Folder: {save_path}\")\n",
    "    \n",
    "    # going through each fruit folder in the source path (train or test)\n",
    "    for fruit_folder in os.listdir(src_path):\n",
    "        fruit_folder_path = os.path.join(src_path, fruit_folder)\n",
    "        \n",
    "        if os.path.isdir(fruit_folder_path):  # checking if the path actually points to a folder\n",
    "            print(f\"Currently Processing Fruit Images of: {fruit_folder}\")\n",
    "            \n",
    "            # going through each image file in the current folder\n",
    "            for img in os.listdir(fruit_folder_path):\n",
    "                img_path = os.path.join(fruit_folder_path, img)\n",
    "                \n",
    "                if img.endswith('.jpg'):  # checking if the file is an jpg image\n",
    "                    img_as_numpy_arr = convertImgToNumpyArr(img_path)\n",
    "                    if img_as_numpy_arr is None:  # handling image processing error\n",
    "                        print(f\"Error processing image {img_path}\")\n",
    "                    else:\n",
    "                        # computing the feature vector (HOG + Colour Histogram)\n",
    "                        hogFeatures, _ = computeHOGFeatures(img_as_numpy_arr)  # Only use the feature descriptor\n",
    "                        hogFeatures = np.ravel(hogFeatures)  # Flatten HOG features if needed\n",
    "\n",
    "                        colourHistFeatures = computeColourHist(img_as_numpy_arr)\n",
    "                        colourHistFeatures = np.ravel(colourHistFeatures)  # Flatten color histogram features if needed\n",
    "                        # print(\"HOG features shape:\", hogFeatures.shape)\n",
    "                        # print(\"Colour Histogram features shape:\", colourHistFeatures.shape)\n",
    "\n",
    "                        # joining both feature sets\n",
    "                        featureVector = np.concatenate((hogFeatures, colourHistFeatures))\n",
    "                        featureVector = featureVector.astype(np.float32) # converting to float32 for saving storage space\n",
    "                        # print(\"Feature vector length:\", len(featureVector))\n",
    "\n",
    "                        # creating the respective save path for each feature vector\n",
    "                        subfolder_path = os.path.relpath(fruit_folder_path, src_path)\n",
    "                        save_file_name = f\"{os.path.splitext(img)[0]}.npy\"  # saving file with .npy extension\n",
    "                        img_save_path = os.path.join(save_path, subfolder_path, save_file_name)\n",
    "                        \n",
    "                        # creating the save folder if it doesn't exist\n",
    "                        os.makedirs(os.path.dirname(img_save_path), exist_ok=True)\n",
    "                        np.save(img_save_path, featureVector)"
   ]
  },
  {
   "cell_type": "code",
   "execution_count": null,
   "metadata": {},
   "outputs": [],
   "source": [
    "# Define paths for source and destination\n",
    "train_data_path = os.path.join('fruits-360', 'Training')\n",
    "features_save_path = os.path.join('fruits-360', 'Features', 'Training')\n",
    "\n",
    "# Run feature extraction on training data\n",
    "saveImgFeaturesAsNumpyArr(train_data_path, features_save_path)"
   ]
  },
  {
   "cell_type": "code",
   "execution_count": null,
   "metadata": {},
   "outputs": [],
   "source": [
    "# Define paths for source and destination\n",
    "test_data_path = os.path.join('fruits-360', 'Test')\n",
    "features_save_path = os.path.join('fruits-360', 'Features', 'Test')\n",
    "\n",
    "# Run feature extraction on training data\n",
    "saveImgFeaturesAsNumpyArr(test_data_path, features_save_path)"
   ]
  },
  {
   "cell_type": "code",
   "execution_count": 6,
   "metadata": {},
   "outputs": [
    {
     "name": "stdout",
     "output_type": "stream",
     "text": [
      "Decision Tree Accuracy: 0.9031\n"
     ]
    }
   ],
   "source": [
    "from sklearn.tree import DecisionTreeClassifier\n",
    "from sklearn.metrics import accuracy_score\n",
    "\n",
    "# Define dataset paths\n",
    "data_dir_train = \"fruits-360/Features/Training\"\n",
    "data_dir_test = \"fruits-360/Features/Test\"\n",
    "\n",
    "# Initialize lists to store data\n",
    "features_train, labels_train = [], []\n",
    "features_test, labels_test = [], []\n",
    "fruit_classes = {}  # Mapping of fruit name to label\n",
    "\n",
    "# Read training dataset\n",
    "for label, fruit_name in enumerate(os.listdir(data_dir_train)):\n",
    "    fruit_path = os.path.join(data_dir_train, fruit_name)\n",
    "    \n",
    "    if os.path.isdir(fruit_path):\n",
    "        fruit_classes[fruit_name] = label  # Assign numeric label\n",
    "        \n",
    "        for file in os.listdir(fruit_path):\n",
    "            if file.endswith(\".npy\"):  # Process only .npy files\n",
    "                file_path = os.path.join(fruit_path, file)\n",
    "                feature_data = np.load(file_path)\n",
    "                \n",
    "                features_train.append(feature_data)\n",
    "                labels_train.append(label)\n",
    "\n",
    "# Read testing dataset\n",
    "for fruit_name, label in fruit_classes.items():  # Use the same labels as training\n",
    "    fruit_path = os.path.join(data_dir_test, fruit_name)\n",
    "    \n",
    "    if os.path.isdir(fruit_path):\n",
    "        for file in os.listdir(fruit_path):\n",
    "            if file.endswith(\".npy\"):  # Process only .npy files\n",
    "                file_path = os.path.join(fruit_path, file)\n",
    "                feature_data = np.load(file_path)\n",
    "                \n",
    "                features_test.append(feature_data)\n",
    "                labels_test.append(label)\n",
    "\n",
    "# Convert lists to NumPy arrays\n",
    "X_train, y_train = np.array(features_train), np.array(labels_train)\n",
    "X_test, y_test = np.array(features_test), np.array(labels_test)\n",
    "\n",
    "# Train Decision Tree Classifier\n",
    "clf = DecisionTreeClassifier(criterion='gini', max_depth=None, random_state=42)\n",
    "clf.fit(X_train, y_train)\n",
    "\n",
    "# Make predictions\n",
    "y_pred = clf.predict(X_test)\n",
    "\n",
    "# Evaluate accuracy\n",
    "accuracy = accuracy_score(y_test, y_pred)\n",
    "print(f\"Decision Tree Accuracy: {accuracy:.4f}\")"
   ]
  }
 ],
 "metadata": {
  "kernelspec": {
   "display_name": "Python 3",
   "language": "python",
   "name": "python3"
  },
  "language_info": {
   "codemirror_mode": {
    "name": "ipython",
    "version": 3
   },
   "file_extension": ".py",
   "mimetype": "text/x-python",
   "name": "python",
   "nbconvert_exporter": "python",
   "pygments_lexer": "ipython3",
   "version": "3.11.9"
  }
 },
 "nbformat": 4,
 "nbformat_minor": 2
}
