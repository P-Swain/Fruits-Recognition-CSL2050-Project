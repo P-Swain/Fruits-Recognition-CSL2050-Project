{
 "cells": [
  {
   "cell_type": "markdown",
   "metadata": {},
   "source": [
    "## **Import Libraries** ##"
   ]
  },
  {
   "cell_type": "code",
   "execution_count": null,
   "metadata": {},
   "outputs": [],
   "source": [
    "import os\n",
    "from tqdm import tqdm  # for the progress bar\n",
    "\n",
    "import numpy as np\n",
    "from sklearn.metrics import accuracy_score\n",
    "\n",
    "import joblib"
   ]
  },
  {
   "cell_type": "markdown",
   "metadata": {},
   "source": [
    "## **Loading Test Features and Labels** ##"
   ]
  },
  {
   "cell_type": "code",
   "execution_count": null,
   "metadata": {},
   "outputs": [],
   "source": [
    "# Function to Load Feature Vectors and Labels\n",
    "def loadFeaturesAndLabels(features_path):\n",
    "\n",
    "    features = [] # list to store the feature vectors\n",
    "    labels = [] # list to store the labels\n",
    "    \n",
    "    # checking if the path exists\n",
    "    if not os.path.exists(features_path):\n",
    "        raise ValueError(f\"Path {features_path} does not exist.\")\n",
    "    # checking if the path is a directory\n",
    "    if not os.path.isdir(features_path):\n",
    "        raise ValueError(f\"Path {features_path} is not a directory.\")\n",
    "    \n",
    "    # going through through the folders and load the features\n",
    "    for fruit_folder in tqdm(os.listdir(features_path), unit=\"folder\", desc=f\"Loading Features from {features_path}\"):\n",
    "\n",
    "        fruit_folder_path = os.path.join(features_path, fruit_folder) # creating complete path of the fruit folder\n",
    "        \n",
    "        if os.path.isdir(fruit_folder_path):  # checking if it's an valid path to a folder\n",
    "            for featureVectorFile in os.listdir(fruit_folder_path):\n",
    "\n",
    "                feature_file_path = os.path.join(fruit_folder_path, featureVectorFile) # creating complete path of the feature file\n",
    "                \n",
    "                if featureVectorFile.endswith('.npy'):  # checking if its a valid feature file\n",
    "                    labels.append(fruit_folder[:-2].strip())  # the folder name is the label (not taking the numbers at the end)\n",
    "\n",
    "                    featureVector = np.load(feature_file_path)\n",
    "                    features.append(featureVector)\n",
    "                    \n",
    "                    \n",
    "    return np.array(features), np.array(labels)"
   ]
  },
  {
   "cell_type": "code",
   "execution_count": null,
   "metadata": {},
   "outputs": [],
   "source": [
    "testFeatures, testLabels = loadFeaturesAndLabels('../features/img_HOG_ColourHist_Features/Testing')\n",
    "print(f\"Testing Features Shape: {testFeatures.shape}\")\n",
    "print(f\"Number of Labels: {len(np.unique(testLabels))}\")"
   ]
  },
  {
   "cell_type": "markdown",
   "metadata": {},
   "source": [
    "## **Testing LDA Model 1** ##"
   ]
  },
  {
   "cell_type": "code",
   "execution_count": null,
   "metadata": {},
   "outputs": [],
   "source": [
    "# loading LDA Model 1\n",
    "lda_model_filename = '../saved_models/LDA_Model_1.pkl'\n",
    "LDA_Model_1 = joblib.load(lda_model_filename)\n",
    "\n",
    "# number of features in LDA\n",
    "print(f\"Number of Features in LDA: {LDA_Model_1.scalings_.shape[1]}\")\n",
    "\n",
    "# predicitng using LDA Model 1\n",
    "testPredictions_LDA = LDA_Model_1.predict(testFeatures)\n",
    "\n",
    "# finding the accuracy\n",
    "accuracy = accuracy_score(testLabels, testPredictions_LDA)\n",
    "print(f\"LDA Classifier Accuracy: {accuracy*100:.2f}%\")"
   ]
  },
  {
   "cell_type": "markdown",
   "metadata": {},
   "source": [
    "## **Testing LDA + SVM Model 1** ##"
   ]
  },
  {
   "cell_type": "code",
   "execution_count": null,
   "metadata": {},
   "outputs": [],
   "source": [
    "# loading LDA + SVM Model 1\n",
    "lda_svm_model_filename = '../saved_models/LDA_SVM_Model_1.pkl'\n",
    "LDA_SVM_Model_1 = joblib.load(lda_svm_model_filename)\n",
    "\n",
    "# transforming the features using LDA Model 1 for LDA + SVM Model 1\n",
    "testFeaturesLDA = LDA_Model_1.transform(testFeatures)\n",
    "\n",
    "# predicitng using LDA + SVM Model 1\n",
    "testPredictions_LDA_SVM = LDA_SVM_Model_1.predict(testFeaturesLDA)\n",
    "\n",
    "# finding the accuracy\n",
    "accuracy = accuracy_score(testLabels, testPredictions_LDA_SVM)\n",
    "print(f\"LDA + SVM Classifier Accuracy: {accuracy*100:.2f}%\")"
   ]
  }
 ],
 "metadata": {
  "kernelspec": {
   "display_name": "PRML",
   "language": "python",
   "name": "python3"
  },
  "language_info": {
   "codemirror_mode": {
    "name": "ipython",
    "version": 3
   },
   "file_extension": ".py",
   "mimetype": "text/x-python",
   "name": "python",
   "nbconvert_exporter": "python",
   "pygments_lexer": "ipython3",
   "version": "3.11.11"
  }
 },
 "nbformat": 4,
 "nbformat_minor": 2
}
