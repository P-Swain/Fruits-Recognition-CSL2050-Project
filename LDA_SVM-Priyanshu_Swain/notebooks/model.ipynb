{
 "cells": [
  {
   "cell_type": "markdown",
   "metadata": {},
   "source": [
    "## **Import Libraries** ##"
   ]
  },
  {
   "cell_type": "code",
   "execution_count": null,
   "metadata": {},
   "outputs": [],
   "source": [
    "import os\n",
    "import numpy as np\n",
    "from tqdm import tqdm  # for the progress bar"
   ]
  },
  {
   "cell_type": "markdown",
   "metadata": {},
   "source": [
    "## **Loading Feature Vectors and Their Labels** ##"
   ]
  },
  {
   "cell_type": "code",
   "execution_count": null,
   "metadata": {},
   "outputs": [],
   "source": [
    "# Function to Load Feature Vectors and Labels\n",
    "def loadFeaturesAndLabels(features_path):\n",
    "\n",
    "    features = [] # list to store the feature vectors\n",
    "    labels = [] # list to store the labels\n",
    "    \n",
    "    # checking if the path exists\n",
    "    if not os.path.exists(features_path):\n",
    "        raise ValueError(f\"Path {features_path} does not exist.\")\n",
    "    # checking if the path is a directory\n",
    "    if not os.path.isdir(features_path):\n",
    "        raise ValueError(f\"Path {features_path} is not a directory.\")\n",
    "    \n",
    "    # going through through the folders and load the features\n",
    "    for fruit_folder in tqdm(os.listdir(features_path), unit=\"folder\", desc=f\"Loading Features from {features_path}\"):\n",
    "\n",
    "        fruit_folder_path = os.path.join(features_path, fruit_folder) # creating complete path of the fruit folder\n",
    "        \n",
    "        if os.path.isdir(fruit_folder_path):  # checking if it's an valid path to a folder\n",
    "            for featureVectorFile in os.listdir(fruit_folder_path):\n",
    "\n",
    "                feature_file_path = os.path.join(fruit_folder_path, featureVectorFile) # creating complete path of the feature file\n",
    "                \n",
    "                if featureVectorFile.endswith('.npy'):  # checking if its a valid feature file\n",
    "                    labels.append(fruit_folder[:-2].strip())  # the folder name is the label (not taking the numbers at the end)\n",
    "\n",
    "                    featureVector = np.load(feature_file_path)\n",
    "                    features.append(featureVector)\n",
    "                    \n",
    "                    \n",
    "    return np.array(features), np.array(labels)"
   ]
  },
  {
   "cell_type": "markdown",
   "metadata": {},
   "source": [
    "## **Linear Discriminant Analysis (LDA)** ##"
   ]
  },
  {
   "cell_type": "code",
   "execution_count": null,
   "metadata": {},
   "outputs": [],
   "source": [
    "from tkinter import N\n",
    "from sklearn.discriminant_analysis import LinearDiscriminantAnalysis\n",
    "from sklearn.metrics import accuracy_score\n",
    "import joblib\n",
    "\n",
    "# loading data\n",
    "trainFeatures, trainLabels = loadFeaturesAndLabels('img_ColourHist_Features/Training')\n",
    "testFeatures, testLabels = loadFeaturesAndLabels('img_ColourHist_Features/Testing')\n",
    "\n",
    "print(f\"Training Features Shape: {trainFeatures.shape}\")\n",
    "print(f\"Testing Features Shape: {testFeatures.shape}\")\n",
    "print(f\"Number of Labels: {len(np.unique(trainLabels))}\")\n",
    "\n",
    "# training LDA\n",
    "LDA_Model = LinearDiscriminantAnalysis()\n",
    "LDA_Model.fit(trainFeatures, trainLabels, n_component = 30)\n",
    "\n",
    "# number of features in LDA\n",
    "print(f\"Number of Features in LDA: {LDA_Model.n_features_in_}\")\n",
    "\n",
    "# predicitng using only LDA\n",
    "testPredictions2 = LDA_Model.predict(testFeatures)\n",
    "\n",
    "# finding the accuracy\n",
    "accuracy2 = accuracy_score(testLabels, testPredictions2)\n",
    "print(f\"LDA Classifier Accuracy: {accuracy2 * 100:.2f}%\")\n",
    "\n",
    "# saving the LDA model\n",
    "lda_model_filename = 'LDA_Model_1.pkl'\n",
    "joblib.dump(LDA_Model, lda_model_filename)\n",
    "print(f\"LDA classifier model saved to {lda_model_filename}\")\n"
   ]
  },
  {
   "cell_type": "markdown",
   "metadata": {},
   "source": [
    "## **LDA + Linear SVM** ##"
   ]
  },
  {
   "cell_type": "code",
   "execution_count": null,
   "metadata": {},
   "outputs": [],
   "source": [
    "from sklearn.svm import SVC\n",
    "from sklearn.metrics import accuracy_score\n",
    "import matplotlib.pyplot as plt\n",
    "import joblib\n",
    "\n",
    "# loading the train and test feature data (only colour histogram features)\n",
    "trainFeatures, trainLabels = loadFeaturesAndLabels('img_HOG_ColourHist_Features/Training')\n",
    "testFeatures, testLabels = loadFeaturesAndLabels('img_HOG_ColourHist_Features/Testing')\n",
    "\n",
    "print(f\"Training Features Shape: {trainFeatures.shape}\")\n",
    "print(f\"Testing Features Shape: {testFeatures.shape}\")\n",
    "print(f\"Number of Labels: {len(np.unique(trainLabels))}\")\n",
    "\n",
    "# loading LDA\n",
    "lda_model_filename = 'LDA_Model_1.pkl'\n",
    "LDA_Model = joblib.load(lda_model_filename)\n",
    "\n",
    "# number of features in LDA\n",
    "print(f\"Number of Features in LDA: {LDA_Model.n_features_in_}\")\n",
    "\n",
    "# transforming training and testing features for SVM\n",
    "trainFeaturesLDA = LDA_Model.transform(trainFeatures)\n",
    "testFeaturesLDA = LDA_Model.transform(testFeatures)\n",
    "\n",
    "# visualizing 2 LDA-transformed features \n",
    "plt.figure(figsize=(10, 6))\n",
    "plt.scatter(trainFeaturesLDA[:, 9], trainFeaturesLDA[:, 19], label='Train', marker = 'o', cmap='viridis')\n",
    "plt.scatter(testFeaturesLDA[:, 9], testFeaturesLDA[:, 19], label='Test', marker='x', cmap='virdis')\n",
    "plt.title('LDA-Transformed Features')\n",
    "plt.xlabel('LDA Component 10')\n",
    "plt.ylabel('LDA Component 20')\n",
    "plt.legend()\n",
    "plt.show()\n",
    "\n",
    "# training linear SVM model on the LDA-transformed features\n",
    "LDA_SVM_Model = SVC(kernel='linear')\n",
    "LDA_SVM_Model.fit(trainFeaturesLDA, trainLabels)\n",
    "\n",
    "# making predictions on the test set\n",
    "testPredictionsLDA = LDA_SVM_Model.predict(testFeaturesLDA)\n",
    "\n",
    "# finding the accuracy\n",
    "accuracy = accuracy_score(testLabels, testPredictionsLDA)\n",
    "print(f\"LDA + Linear SVM Accuracy: {accuracy * 100:.2f}%\")\n",
    "\n",
    "# display 5 incorrectly classified images (also displaying the image index in testFeatures)\n",
    "incorrectIndices = np.where(testPredictionsLDA != testLabels)[0][:5]\n",
    "for i in incorrectIndices:\n",
    "    print(f\"Image Index: {i} - Predicted: {testPredictionsLDA[i]} - Actual: {testLabels[i]}\")\n",
    "\n",
    "# saving the model \n",
    "lda_svm_model_filename = 'LDA_SVM_Model_1.pkl'\n",
    "joblib.dump(LDA_SVM_Model, lda_svm_model_filename)\n",
    "print(f\"SVM (LDA) model saved to {lda_svm_model_filename} sucessfully\")"
   ]
  }
 ],
 "metadata": {
  "language_info": {
   "name": "python"
  }
 },
 "nbformat": 4,
 "nbformat_minor": 2
}
