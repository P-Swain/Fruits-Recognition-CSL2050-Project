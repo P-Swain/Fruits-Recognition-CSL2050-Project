{
 "cells": [
  {
   "cell_type": "markdown",
   "metadata": {},
   "source": [
    "## **Import Libraries** ##"
   ]
  },
  {
   "cell_type": "code",
   "execution_count": 1,
   "metadata": {},
   "outputs": [],
   "source": [
    "import os\n",
    "import numpy as np\n",
    "from tqdm import tqdm  # for the progress bar"
   ]
  },
  {
   "cell_type": "markdown",
   "metadata": {},
   "source": [
    "## **Loading Feature Vectors and Their Labels** ##"
   ]
  },
  {
   "cell_type": "code",
   "execution_count": 2,
   "metadata": {},
   "outputs": [],
   "source": [
    "# Function to Load Feature Vectors and Labels\n",
    "def loadFeaturesAndLabels(features_path):\n",
    "\n",
    "    features = [] # list to store the feature vectors\n",
    "    labels = [] # list to store the labels\n",
    "    \n",
    "    # checking if the path exists\n",
    "    if not os.path.exists(features_path):\n",
    "        raise ValueError(f\"Path {features_path} does not exist.\")\n",
    "    # checking if the path is a directory\n",
    "    if not os.path.isdir(features_path):\n",
    "        raise ValueError(f\"Path {features_path} is not a directory.\")\n",
    "    \n",
    "    # going through through the folders and load the features\n",
    "    for fruit_folder in tqdm(os.listdir(features_path), unit=\"folder\", desc=f\"Loading Features from {features_path}\"):\n",
    "\n",
    "        fruit_folder_path = os.path.join(features_path, fruit_folder) # creating complete path of the fruit folder\n",
    "        \n",
    "        if os.path.isdir(fruit_folder_path):  # checking if it's an valid path to a folder\n",
    "            for featureVectorFile in os.listdir(fruit_folder_path):\n",
    "\n",
    "                feature_file_path = os.path.join(fruit_folder_path, featureVectorFile) # creating complete path of the feature file\n",
    "                \n",
    "                if featureVectorFile.endswith('.npy'):  # checking if its a valid feature file\n",
    "                    labels.append(fruit_folder[:-2].strip())  # the folder name is the label (not taking the numbers at the end)\n",
    "\n",
    "                    featureVector = np.load(feature_file_path)\n",
    "                    features.append(featureVector)\n",
    "                    \n",
    "                    \n",
    "    return np.array(features), np.array(labels)"
   ]
  },
  {
   "cell_type": "code",
   "execution_count": 3,
   "metadata": {},
   "outputs": [
    {
     "name": "stderr",
     "output_type": "stream",
     "text": [
      "Loading Features from ../features/img_ColourHist_Features/Training: 100%|██████████| 161/161 [00:06<00:00, 24.70folder/s]\n",
      "Loading Features from ../features/img_ColourHist_Features/Testing: 100%|██████████| 160/160 [00:02<00:00, 75.08folder/s]\n"
     ]
    }
   ],
   "source": [
    "# loading the train and test feature data and labels\n",
    "trainFeatures, trainLabels = loadFeaturesAndLabels('../features/img_ColourHist_Features/Training')\n",
    "testFeatures, testLabels = loadFeaturesAndLabels('../features/img_ColourHist_Features/Testing')"
   ]
  },
  {
   "cell_type": "markdown",
   "metadata": {},
   "source": [
    "## **Linear Discriminant Analysis (LDA)** ##"
   ]
  },
  {
   "cell_type": "code",
   "execution_count": null,
   "metadata": {},
   "outputs": [
    {
     "name": "stdout",
     "output_type": "stream",
     "text": [
      "Training Features Shape: (79921, 960)\n",
      "Testing Features Shape: (26668, 960)\n",
      "Number of Labels: 132\n"
     ]
    },
    {
     "ename": "TypeError",
     "evalue": "LinearDiscriminantAnalysis.fit() got an unexpected keyword argument 'n_component'",
     "output_type": "error",
     "traceback": [
      "\u001b[0;31m---------------------------------------------------------------------------\u001b[0m",
      "\u001b[0;31mTypeError\u001b[0m                                 Traceback (most recent call last)",
      "Cell \u001b[0;32mIn[4], line 12\u001b[0m\n\u001b[1;32m     10\u001b[0m \u001b[38;5;66;03m# training LDA\u001b[39;00m\n\u001b[1;32m     11\u001b[0m LDA_Model \u001b[38;5;241m=\u001b[39m LinearDiscriminantAnalysis()\n\u001b[0;32m---> 12\u001b[0m \u001b[43mLDA_Model\u001b[49m\u001b[38;5;241;43m.\u001b[39;49m\u001b[43mfit\u001b[49m\u001b[43m(\u001b[49m\u001b[43mtrainFeatures\u001b[49m\u001b[43m,\u001b[49m\u001b[43m \u001b[49m\u001b[43mtrainLabels\u001b[49m\u001b[43m,\u001b[49m\u001b[43m \u001b[49m\u001b[43mn_component\u001b[49m\u001b[43m \u001b[49m\u001b[38;5;241;43m=\u001b[39;49m\u001b[43m \u001b[49m\u001b[38;5;241;43m30\u001b[39;49m\u001b[43m)\u001b[49m\n\u001b[1;32m     14\u001b[0m \u001b[38;5;66;03m# number of features in LDA\u001b[39;00m\n\u001b[1;32m     15\u001b[0m \u001b[38;5;28mprint\u001b[39m(\u001b[38;5;124mf\u001b[39m\u001b[38;5;124m\"\u001b[39m\u001b[38;5;124mNumber of Features in LDA: \u001b[39m\u001b[38;5;132;01m{\u001b[39;00mLDA_Model\u001b[38;5;241m.\u001b[39mn_features_in_\u001b[38;5;132;01m}\u001b[39;00m\u001b[38;5;124m\"\u001b[39m)\n",
      "File \u001b[0;32m/opt/anaconda3/envs/PRML/lib/python3.11/site-packages/sklearn/base.py:1389\u001b[0m, in \u001b[0;36m_fit_context.<locals>.decorator.<locals>.wrapper\u001b[0;34m(estimator, *args, **kwargs)\u001b[0m\n\u001b[1;32m   1382\u001b[0m     estimator\u001b[38;5;241m.\u001b[39m_validate_params()\n\u001b[1;32m   1384\u001b[0m \u001b[38;5;28;01mwith\u001b[39;00m config_context(\n\u001b[1;32m   1385\u001b[0m     skip_parameter_validation\u001b[38;5;241m=\u001b[39m(\n\u001b[1;32m   1386\u001b[0m         prefer_skip_nested_validation \u001b[38;5;129;01mor\u001b[39;00m global_skip_validation\n\u001b[1;32m   1387\u001b[0m     )\n\u001b[1;32m   1388\u001b[0m ):\n\u001b[0;32m-> 1389\u001b[0m     \u001b[38;5;28;01mreturn\u001b[39;00m \u001b[43mfit_method\u001b[49m\u001b[43m(\u001b[49m\u001b[43mestimator\u001b[49m\u001b[43m,\u001b[49m\u001b[43m \u001b[49m\u001b[38;5;241;43m*\u001b[39;49m\u001b[43margs\u001b[49m\u001b[43m,\u001b[49m\u001b[43m \u001b[49m\u001b[38;5;241;43m*\u001b[39;49m\u001b[38;5;241;43m*\u001b[39;49m\u001b[43mkwargs\u001b[49m\u001b[43m)\u001b[49m\n",
      "\u001b[0;31mTypeError\u001b[0m: LinearDiscriminantAnalysis.fit() got an unexpected keyword argument 'n_component'"
     ]
    }
   ],
   "source": [
    "from sklearn.discriminant_analysis import LinearDiscriminantAnalysis\n",
    "from sklearn.metrics import accuracy_score\n",
    "import joblib\n",
    "\n",
    "# checking the shape of the features and labels\n",
    "print(f\"Training Features Shape: {trainFeatures.shape}\")\n",
    "print(f\"Testing Features Shape: {testFeatures.shape}\")\n",
    "print(f\"Number of Labels: {len(np.unique(trainLabels))}\")\n",
    "\n",
    "# training LDA\n",
    "LDA_Model = LinearDiscriminantAnalysis()\n",
    "LDA_Model.fit(trainFeatures, trainLabels)\n",
    "\n",
    "# number of features in LDA\n",
    "print(f\"Number of Features in LDA: {LDA_Model.scalings_.shape[1]}\")\n",
    "\n",
    "# predicitng using only LDA\n",
    "testPredictions_LDA = LDA_Model.predict(testFeatures)\n",
    "\n",
    "# finding the accuracy\n",
    "accuracy = accuracy_score(testLabels, testPredictions_LDA)\n",
    "print(f\"LDA Classifier Accuracy: {accuracy*100:.2f}%\")\n",
    "\n",
    "# saving the LDA model\n",
    "lda_model_filename = '../saved_models/LDA_Model_1.pkl'\n",
    "joblib.dump(LDA_Model, lda_model_filename)\n",
    "print(f\"LDA classifier model saved to {lda_model_filename}\")\n"
   ]
  },
  {
   "cell_type": "markdown",
   "metadata": {},
   "source": [
    "## **LDA + Linear SVM** ##"
   ]
  },
  {
   "cell_type": "code",
   "execution_count": null,
   "metadata": {},
   "outputs": [],
   "source": [
    "from sklearn.svm import SVC\n",
    "from sklearn.metrics import accuracy_score\n",
    "import matplotlib.pyplot as plt\n",
    "import joblib\n",
    "\n",
    "# checking the shape of the features and labels\n",
    "print(f\"Training Features Shape: {trainFeatures.shape}\")\n",
    "print(f\"Testing Features Shape: {testFeatures.shape}\")\n",
    "print(f\"Number of Labels: {len(np.unique(trainLabels))}\")\n",
    "\n",
    "# loading LDA\n",
    "lda_model_filename = '../saved_models/LDA_Model_1.pkl'\n",
    "LDA_Model = joblib.load(lda_model_filename)\n",
    "\n",
    "# number of features in LDA\n",
    "print(f\"Number of Features in LDA: {LDA_Model.n_features_in_}\")\n",
    "\n",
    "# transforming training and testing features for SVM\n",
    "trainFeaturesLDA = LDA_Model.transform(trainFeatures)\n",
    "testFeaturesLDA = LDA_Model.transform(testFeatures)\n",
    "\n",
    "# visualizing 2 LDA-transformed features \n",
    "plt.figure(figsize=(10, 6))\n",
    "plt.scatter(trainFeaturesLDA[:, 9], trainFeaturesLDA[:, 19], label='Train', marker = 'o', cmap='viridis')\n",
    "plt.scatter(testFeaturesLDA[:, 9], testFeaturesLDA[:, 19], label='Test', marker='x', cmap='virdis')\n",
    "plt.title('LDA-Transformed Features')\n",
    "plt.xlabel('LDA Component 10')\n",
    "plt.ylabel('LDA Component 20')\n",
    "plt.legend()\n",
    "plt.show()\n",
    "\n",
    "# training linear SVM model on the LDA-transformed features\n",
    "LDA_SVM_Model = SVC(kernel='linear')\n",
    "LDA_SVM_Model.fit(trainFeaturesLDA, trainLabels)\n",
    "\n",
    "# making predictions on the test set\n",
    "testPredictions_LDA_SVM = LDA_SVM_Model.predict(testFeaturesLDA)\n",
    "\n",
    "# finding the accuracy\n",
    "accuracy = accuracy_score(testLabels, testPredictions_LDA_SVM)\n",
    "print(f\"LDA + Linear SVM Accuracy: {accuracy*100:.2f}%\")\n",
    "\n",
    "# display 5 incorrectly classified images (also displaying the image index in testFeatures)\n",
    "incorrectIndices = np.where(testPredictions_LDA_SVM != testLabels)[0][:5]\n",
    "for i in incorrectIndices:\n",
    "    print(f\"Image Index: {i} - Predicted: {testPredictions_LDA_SVM[i]} - Actual: {testLabels[i]}\")\n",
    "\n",
    "# saving the model \n",
    "lda_svm_model_filename = '../saved_models/LDA_SVM_Model_1.pkl'\n",
    "joblib.dump(LDA_SVM_Model, lda_svm_model_filename)\n",
    "print(f\"SVM (LDA) model saved to {lda_svm_model_filename} sucessfully\")"
   ]
  }
 ],
 "metadata": {
  "kernelspec": {
   "display_name": "PRML",
   "language": "python",
   "name": "python3"
  },
  "language_info": {
   "codemirror_mode": {
    "name": "ipython",
    "version": 3
   },
   "file_extension": ".py",
   "mimetype": "text/x-python",
   "name": "python",
   "nbconvert_exporter": "python",
   "pygments_lexer": "ipython3",
   "version": "3.11.11"
  }
 },
 "nbformat": 4,
 "nbformat_minor": 2
}
