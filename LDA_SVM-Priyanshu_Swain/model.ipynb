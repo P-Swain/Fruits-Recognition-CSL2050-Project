{
 "cells": [
  {
   "cell_type": "markdown",
   "metadata": {},
   "source": [
    "## **Import Libraries** ##"
   ]
  },
  {
   "cell_type": "code",
   "execution_count": null,
   "metadata": {},
   "outputs": [],
   "source": [
    "import os\n",
    "import numpy as np\n",
    "from sklearn.svm import SVC\n",
    "from sklearn.metrics import accuracy_score\n",
    "from tqdm import tqdm  # for the progress bar"
   ]
  },
  {
   "cell_type": "markdown",
   "metadata": {},
   "source": [
    "## **Loading Feature Vectors and Their Labels** ##"
   ]
  },
  {
   "cell_type": "code",
   "execution_count": null,
   "metadata": {},
   "outputs": [],
   "source": [
    "# Function to Load Feature Vectors and Labels\n",
    "def loadFeaturesAndLabels(features_path):\n",
    "\n",
    "    features = [] # list to store the feature vectors\n",
    "    labels = [] # list to store the labels\n",
    "    \n",
    "    # checking if the path exists\n",
    "    if not os.path.exists(features_path):\n",
    "        raise ValueError(f\"Path {features_path} does not exist.\")\n",
    "    # checking if the path is a directory\n",
    "    if not os.path.isdir(features_path):\n",
    "        raise ValueError(f\"Path {features_path} is not a directory.\")\n",
    "    \n",
    "    # going through through the folders and load the features\n",
    "    for fruit_folder in tqdm(os.listdir(features_path), unit=\"folder\", desc=f\"Loading Features from {features_path}\"):\n",
    "\n",
    "        fruit_folder_path = os.path.join(features_path, fruit_folder) # creating complete path of the fruit folder\n",
    "        \n",
    "        if os.path.isdir(fruit_folder_path):  # checking if it's an valid path to a folder\n",
    "            for featureVectorFile in os.listdir(fruit_folder_path):\n",
    "\n",
    "                feature_file_path = os.path.join(fruit_folder_path, featureVectorFile) # creating complete path of the feature file\n",
    "                \n",
    "                if featureVectorFile.endswith('.npy'):  # checking if its a valid feature file\n",
    "                    labels.append(fruit_folder[:-2].strip())  # the folder name is the label (not taking the numbers at the end)\n",
    "\n",
    "                    featureVector = np.load(feature_file_path)\n",
    "                    features.append(featureVector)\n",
    "                    \n",
    "                    \n",
    "    return np.array(features), np.array(labels)"
   ]
  },
  {
   "cell_type": "markdown",
   "metadata": {},
   "source": [
    "## **SVM 1 (only Colour Histogram Features)** ##"
   ]
  },
  {
   "cell_type": "code",
   "execution_count": null,
   "metadata": {},
   "outputs": [],
   "source": [
    "# loading the train and test feature data (only colour histogram features)\n",
    "trainFeatures1, trainLabels1 = loadFeaturesAndLabels('img_ColourHist_Features/Training')\n",
    "testFeatures1, testLabels1 = loadFeaturesAndLabels('img_ColourHist_Features/Testing')\n",
    "\n",
    "print(f\"Training Features Shape: {trainFeatures1.shape}\")\n",
    "print(f\"Testing Features Shape: {testFeatures1.shape}\")\n",
    "print(f\"Number of Labels: {len(np.unique(trainLabels1))}\")\n",
    "\n",
    "# training\n",
    "SVM_Classifier1 = SVC(kernel='linear')  # linear SVM classifier\n",
    "SVM_Classifier1.fit(trainFeatures1, trainLabels1)\n",
    "\n",
    "# predicting on test data\n",
    "testPredictions1 = SVM_Classifier1.predict(testFeatures1)\n",
    "\n",
    "# finding and printing the accuracy\n",
    "accuracy1 = accuracy_score(testLabels1, testPredictions1)\n",
    "print(f\"Test Accuracy: {accuracy1 * 100:.2f}%\")\n"
   ]
  },
  {
   "cell_type": "code",
   "execution_count": null,
   "metadata": {},
   "outputs": [],
   "source": [
    "import joblib\n",
    "\n",
    "# saving SVM Model 1\n",
    "model_filename1 = 'SVM_Model_ColourHist.pkl'\n",
    "joblib.dump(SVM_Classifier1, model_filename1)\n",
    "print(f\"Model 1 successfully saved to {model_filename1}\")"
   ]
  },
  {
   "cell_type": "markdown",
   "metadata": {},
   "source": [
    "## **SVM 2 (Colour Histogram and HOG Features)** ##"
   ]
  },
  {
   "cell_type": "code",
   "execution_count": null,
   "metadata": {},
   "outputs": [],
   "source": [
    "# loading the train and test feature data (HOG and Colour Histogram features)\n",
    "trainFeatures2, trainLabels2 = loadFeaturesAndLabels('img_HOG_ColourHist_Features/Training')\n",
    "testFeatures2, testLabels2 = loadFeaturesAndLabels('img_HOG_ColourHist_Features/Testing')\n",
    "\n",
    "print(f\"Training Features Shape: {trainFeatures2.shape}\")\n",
    "print(f\"Training Labels Shape: {trainLabels2.shape}\")\n",
    "print(f\"Number of Labels: {len(np.unique(trainLabels2))}\")\n",
    "\n",
    "# training\n",
    "SVM_Classifier2 = SVC(kernel='linear')  # linear SVM classifier\n",
    "SVM_Classifier2.fit(trainFeatures2, trainLabels2)\n",
    "\n",
    "# predicting on test data\n",
    "testPredictions2 = SVM_Classifier2.predict(testFeatures2)\n",
    "\n",
    "# finding and printing the accuracy\n",
    "accuracy2 = accuracy_score(testLabels2, testPredictions2)\n",
    "print(f\"Test Accuracy: {accuracy2 * 100:.2f}%\")"
   ]
  },
  {
   "cell_type": "code",
   "execution_count": null,
   "metadata": {},
   "outputs": [],
   "source": [
    "import joblib\n",
    "\n",
    "# saving SVM Model 2\n",
    "model_filename2 = 'SVM_Model_HOG_ColourHist.pkl'\n",
    "joblib.dump(SVM_Classifier1, model_filename2)\n",
    "print(f\"Model 2 successfully saved to {model_filename2}\")"
   ]
  }
 ],
 "metadata": {
  "kernelspec": {
   "display_name": "PRML",
   "language": "python",
   "name": "python3"
  },
  "language_info": {
   "codemirror_mode": {
    "name": "ipython",
    "version": 3
   },
   "file_extension": ".py",
   "mimetype": "text/x-python",
   "name": "python",
   "nbconvert_exporter": "python",
   "pygments_lexer": "ipython3",
   "version": "3.11.11"
  }
 },
 "nbformat": 4,
 "nbformat_minor": 2
}
