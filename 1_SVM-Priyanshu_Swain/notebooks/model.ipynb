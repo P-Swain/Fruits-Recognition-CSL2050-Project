{
 "cells": [
  {
   "cell_type": "markdown",
   "metadata": {},
   "source": [
    "## **Import Libraries** ##"
   ]
  },
  {
   "cell_type": "code",
   "execution_count": 1,
   "metadata": {},
   "outputs": [],
   "source": [
    "import os\n",
    "import numpy as np\n",
    "from sklearn.svm import SVC\n",
    "from sklearn.metrics import accuracy_score\n",
    "from tqdm import tqdm  # for the progress bar\n",
    "import joblib"
   ]
  },
  {
   "cell_type": "markdown",
   "metadata": {},
   "source": [
    "## **Loading Feature Vectors and Their Labels** ##"
   ]
  },
  {
   "cell_type": "code",
   "execution_count": 3,
   "metadata": {},
   "outputs": [],
   "source": [
    "# Function to Load Feature Vectors and Labels\n",
    "def loadFeaturesAndLabels(features_path):\n",
    "\n",
    "    features = [] # list to store the feature vectors\n",
    "    labels = [] # list to store the labels\n",
    "    \n",
    "    # checking if the path exists\n",
    "    if not os.path.exists(features_path):\n",
    "        raise ValueError(f\"Path {features_path} does not exist.\")\n",
    "    # checking if the path is a directory\n",
    "    if not os.path.isdir(features_path):\n",
    "        raise ValueError(f\"Path {features_path} is not a directory.\")\n",
    "    \n",
    "    # going through through the folders and load the features\n",
    "    for fruit_folder in tqdm(os.listdir(features_path), unit=\"folder\", desc=f\"Loading Features from {features_path}\"):\n",
    "\n",
    "        fruit_folder_path = os.path.join(features_path, fruit_folder) # creating complete path of the fruit folder\n",
    "        \n",
    "        if os.path.isdir(fruit_folder_path):  # checking if it's an valid path to a folder\n",
    "            for featureVectorFile in os.listdir(fruit_folder_path):\n",
    "\n",
    "                feature_file_path = os.path.join(fruit_folder_path, featureVectorFile) # creating complete path of the feature file\n",
    "                \n",
    "                if featureVectorFile.endswith('.npy'):  # checking if its a valid feature file\n",
    "                    labels.append(fruit_folder[:-2].strip())  # the folder name is the label (not taking the numbers at the end)\n",
    "\n",
    "                    featureVector = np.load(feature_file_path)\n",
    "                    features.append(featureVector)\n",
    "                    \n",
    "                    \n",
    "    return np.array(features), np.array(labels)"
   ]
  },
  {
   "cell_type": "markdown",
   "metadata": {},
   "source": [
    "## **SVM (Linear, Poly, RBF) Using Colour Histogram Features** ##"
   ]
  },
  {
   "cell_type": "markdown",
   "metadata": {},
   "source": [
    "### **Loading Features and Labels** ###"
   ]
  },
  {
   "cell_type": "code",
   "execution_count": 15,
   "metadata": {},
   "outputs": [
    {
     "name": "stderr",
     "output_type": "stream",
     "text": [
      "Loading Features from ../features/img_ColourHist_Features/Training: 100%|██████████| 160/160 [00:07<00:00, 20.17folder/s]\n",
      "Loading Features from ../features/img_ColourHist_Features/Testing: 100%|██████████| 159/159 [00:02<00:00, 54.85folder/s]\n"
     ]
    }
   ],
   "source": [
    "# loading the train and test feature data (only colour histogram features)\n",
    "trainFeatures, trainLabels = loadFeaturesAndLabels('../features/img_ColourHist_Features/Training')\n",
    "testFeatures, testLabels = loadFeaturesAndLabels('../features/img_ColourHist_Features/Testing')"
   ]
  },
  {
   "cell_type": "code",
   "execution_count": 5,
   "metadata": {},
   "outputs": [
    {
     "name": "stdout",
     "output_type": "stream",
     "text": [
      "Training Features Shape: (79921, 60)\n",
      "Testing Features Shape: (26668, 60)\n",
      "Number of Labels: 132\n"
     ]
    }
   ],
   "source": [
    "print(f\"Training Features Shape: {trainFeatures.shape}\")\n",
    "print(f\"Testing Features Shape: {testFeatures.shape}\")\n",
    "print(f\"Number of Labels: {len(np.unique(trainLabels))}\")"
   ]
  },
  {
   "cell_type": "markdown",
   "metadata": {},
   "source": [
    "### **SVM 1 (Linear)** ###"
   ]
  },
  {
   "cell_type": "code",
   "execution_count": 5,
   "metadata": {},
   "outputs": [
    {
     "name": "stdout",
     "output_type": "stream",
     "text": [
      "Linear SVM Test Accuracy: 98.05%\n"
     ]
    }
   ],
   "source": [
    "# training\n",
    "SVM_1 = SVC(kernel='linear')  # linear SVM classifier\n",
    "SVM_1.fit(trainFeatures, trainLabels)\n",
    "\n",
    "# predicting on test data\n",
    "testPredictions1 = SVM_1.predict(testFeatures)\n",
    "\n",
    "# finding and printing the accuracy\n",
    "accuracy1 = accuracy_score(testLabels, testPredictions1)\n",
    "print(f\"Linear SVM Test Accuracy: {accuracy1 * 100:.2f}%\")\n"
   ]
  },
  {
   "cell_type": "code",
   "execution_count": 6,
   "metadata": {},
   "outputs": [
    {
     "name": "stdout",
     "output_type": "stream",
     "text": [
      "Model 1 successfully saved to ../saved_models/SVM_Model_1.pkl\n"
     ]
    }
   ],
   "source": [
    "# saving SVM Model 1\n",
    "model_filename1 = '../saved_models/SVM_Model_1.pkl'\n",
    "joblib.dump(SVM_1, model_filename1)\n",
    "print(f\"Model 1 successfully saved to {model_filename1}\")"
   ]
  },
  {
   "cell_type": "markdown",
   "metadata": {},
   "source": [
    "### **SVM 2 (Polynomial SVM)** ###"
   ]
  },
  {
   "cell_type": "code",
   "execution_count": 7,
   "metadata": {},
   "outputs": [
    {
     "name": "stdout",
     "output_type": "stream",
     "text": [
      "Polynomial SVM Test Accuracy: 97.25%\n"
     ]
    }
   ],
   "source": [
    "# training\n",
    "SVM_2 = SVC(kernel='poly')  # polynomial SVM classifier\n",
    "SVM_2.fit(trainFeatures, trainLabels)\n",
    "\n",
    "# predicting on test data\n",
    "testPredictions2 = SVM_2.predict(testFeatures)\n",
    "\n",
    "# finding and printing the accuracy\n",
    "accuracy2 = accuracy_score(testLabels, testPredictions2)\n",
    "print(f\"Polynomial SVM Test Accuracy: {accuracy2 * 100:.2f}%\")"
   ]
  },
  {
   "cell_type": "code",
   "execution_count": 8,
   "metadata": {},
   "outputs": [
    {
     "name": "stdout",
     "output_type": "stream",
     "text": [
      "Model 2 successfully saved to ../saved_models/SVM_Model_2.pkl\n"
     ]
    }
   ],
   "source": [
    "# saving SVM Model 2\n",
    "model_filename2 = '../saved_models/SVM_Model_2.pkl'\n",
    "joblib.dump(SVM_2, model_filename2)\n",
    "print(f\"Model 2 successfully saved to {model_filename2}\")"
   ]
  },
  {
   "cell_type": "markdown",
   "metadata": {},
   "source": [
    "### **SVM 3 (RBF SVM)** ###"
   ]
  },
  {
   "cell_type": "code",
   "execution_count": null,
   "metadata": {},
   "outputs": [
    {
     "name": "stdout",
     "output_type": "stream",
     "text": [
      "RBF SVM Test Accuracy: 96.56%\n"
     ]
    }
   ],
   "source": [
    "# training\n",
    "SVM_3 = SVC(kernel='rbf')  # RBF SVM classifier\n",
    "SVM_3.fit(trainFeatures, trainLabels)\n",
    "\n",
    "# predicting on test data\n",
    "testPredictions3 = SVM_3.predict(testFeatures)\n",
    "\n",
    "# finding and printing the accuracy\n",
    "accuracy3 = accuracy_score(testLabels, testPredictions3)\n",
    "print(f\"RBF SVM Test Accuracy: {accuracy3 * 100:.2f}%\")"
   ]
  },
  {
   "cell_type": "code",
   "execution_count": 10,
   "metadata": {},
   "outputs": [
    {
     "name": "stdout",
     "output_type": "stream",
     "text": [
      "Model 3 successfully saved to ../saved_models/SVM_Model_3.pkl\n"
     ]
    }
   ],
   "source": [
    "# saving SVM Model 3\n",
    "model_filename3 = '../saved_models/SVM_Model_3.pkl'\n",
    "joblib.dump(SVM_3, model_filename3)\n",
    "print(f\"Model 3 successfully saved to {model_filename3}\")"
   ]
  },
  {
   "cell_type": "markdown",
   "metadata": {},
   "source": [
    "## **SVM (Linear) Using HOG Features** ##"
   ]
  },
  {
   "cell_type": "markdown",
   "metadata": {},
   "source": [
    "### **Loading Features and Labels** ###"
   ]
  },
  {
   "cell_type": "code",
   "execution_count": 5,
   "metadata": {},
   "outputs": [
    {
     "name": "stderr",
     "output_type": "stream",
     "text": [
      "Loading Features from ../features/img_HOG_Features/Training: 100%|██████████| 160/160 [00:06<00:00, 22.96folder/s]\n",
      "Loading Features from ../features/img_HOG_Features/Testing: 100%|██████████| 159/159 [00:02<00:00, 63.08folder/s]"
     ]
    },
    {
     "name": "stdout",
     "output_type": "stream",
     "text": [
      "Training Features Shape: (79921, 900)\n",
      "Testing Features Shape: (26668, 900)\n",
      "Number of Labels: 132\n"
     ]
    },
    {
     "name": "stderr",
     "output_type": "stream",
     "text": [
      "\n"
     ]
    }
   ],
   "source": [
    "# loading the train and test feature data (only HOG features)\n",
    "trainX_HOG, trainY_HOG = loadFeaturesAndLabels('../features/img_HOG_Features/Training')\n",
    "testX_HOG, testY_HOG = loadFeaturesAndLabels('../features/img_HOG_Features/Testing')\n",
    "\n",
    "print(f\"Training Features Shape: {trainX_HOG.shape}\")\n",
    "print(f\"Testing Features Shape: {testX_HOG.shape}\")\n",
    "print(f\"Number of Labels: {len(np.unique(trainY_HOG))}\")"
   ]
  },
  {
   "cell_type": "markdown",
   "metadata": {},
   "source": [
    "### **SVM 5 (Linear, HOG Features)** ###"
   ]
  },
  {
   "cell_type": "code",
   "execution_count": 6,
   "metadata": {},
   "outputs": [
    {
     "name": "stdout",
     "output_type": "stream",
     "text": [
      "Predicting HOG Test Data...\n"
     ]
    },
    {
     "name": "stderr",
     "output_type": "stream",
     "text": [
      "Predicting Batches: 100%|██████████| 2667/2667 [15:16<00:00,  2.91batch/s]"
     ]
    },
    {
     "name": "stdout",
     "output_type": "stream",
     "text": [
      "Linear SVM with HOG Test Accuracy: 91.65%\n"
     ]
    },
    {
     "name": "stderr",
     "output_type": "stream",
     "text": [
      "\n"
     ]
    }
   ],
   "source": [
    "# training\n",
    "SVM_5 = SVC(kernel='linear')  # linear SVM classifier\n",
    "SVM_5.fit(trainX_HOG, trainY_HOG)\n",
    "\n",
    "# predicting on test data\n",
    "\n",
    "batchSize = 10  \n",
    "totalBatches = int(np.ceil(len(testX_HOG) / batchSize))\n",
    "\n",
    "testPred_HOG = []\n",
    "\n",
    "print(\"Predicting HOG Test Data...\")\n",
    "for i in tqdm(range(totalBatches), desc=\"Predicting Batches\", unit=\"batch\"):\n",
    "    # calculating the start and end index for the current batch\n",
    "    startIdx = i * batchSize\n",
    "    endIdx = min((i + 1) * batchSize, len(testX_HOG))\n",
    "    # predicting the current batch\n",
    "    batchPreds = SVM_5.predict(testX_HOG[startIdx:endIdx])\n",
    "    testPred_HOG.extend(batchPreds)\n",
    "\n",
    "testPred_HOG = np.array(testPred_HOG)\n",
    "\n",
    "# finding and printing the accuracy\n",
    "accuracyHOG = accuracy_score(testY_HOG, testPred_HOG)\n",
    "print(f\"Linear SVM with HOG Test Accuracy: {accuracyHOG * 100:.2f}%\")"
   ]
  },
  {
   "cell_type": "code",
   "execution_count": 7,
   "metadata": {},
   "outputs": [
    {
     "name": "stdout",
     "output_type": "stream",
     "text": [
      "Model 5 successfully saved to ../saved_models/SVM_Model_5.pkl\n"
     ]
    }
   ],
   "source": [
    "# saving SVM Model 5\n",
    "model_filename5 = '../saved_models/SVM_Model_5.pkl'\n",
    "joblib.dump(SVM_5, model_filename5)\n",
    "print(f\"Model 5 successfully saved to {model_filename5}\")"
   ]
  },
  {
   "cell_type": "markdown",
   "metadata": {},
   "source": [
    "## **SVM (Linear) Using LBP Histogram Features** ##"
   ]
  },
  {
   "cell_type": "markdown",
   "metadata": {},
   "source": [
    "### **Loading Features and Labels** ###"
   ]
  },
  {
   "cell_type": "code",
   "execution_count": null,
   "metadata": {},
   "outputs": [
    {
     "name": "stderr",
     "output_type": "stream",
     "text": [
      "Loading Features from ../features/img_LBP_Hist_Features/Training: 100%|██████████| 160/160 [00:08<00:00, 19.64folder/s]\n",
      "Loading Features from ../features/img_LBP_Hist_Features/Testing: 100%|██████████| 159/159 [00:02<00:00, 58.28folder/s]\n"
     ]
    },
    {
     "name": "stdout",
     "output_type": "stream",
     "text": [
      "Training Features Shape: (79921, 10)\n",
      "Testing Features Shape: (26668, 10)\n",
      "Number of Labels: 132\n"
     ]
    }
   ],
   "source": [
    "# loading the train and test feature data (only LBP histogram features)\n",
    "trainX_HOG, trainY_HOG = loadFeaturesAndLabels('../features/img_LBP_Hist_Features/Training')\n",
    "testX_HOG, testY_HOG = loadFeaturesAndLabels('../features/img_LBP_Hist_Features/Testing')\n",
    "\n",
    "print(f\"Training Features Shape: {trainX_HOG.shape}\")\n",
    "print(f\"Testing Features Shape: {testX_HOG.shape}\")\n",
    "print(f\"Number of Labels: {len(np.unique(trainY_HOG))}\")"
   ]
  },
  {
   "cell_type": "markdown",
   "metadata": {},
   "source": [
    "### **SVM 4 (Linear, LBP Histogram Features)** ###"
   ]
  },
  {
   "cell_type": "code",
   "execution_count": null,
   "metadata": {},
   "outputs": [
    {
     "name": "stdout",
     "output_type": "stream",
     "text": [
      "Predicting LBP Test Data...\n"
     ]
    },
    {
     "name": "stderr",
     "output_type": "stream",
     "text": [
      "Predicting Batches: 100%|██████████| 2667/2667 [07:35<00:00,  5.86batch/s]"
     ]
    },
    {
     "name": "stdout",
     "output_type": "stream",
     "text": [
      "Linear SVM with LBP Histogram Test Accuracy: 18.10%\n"
     ]
    },
    {
     "name": "stderr",
     "output_type": "stream",
     "text": [
      "\n"
     ]
    }
   ],
   "source": [
    "# training\n",
    "SVM_5 = SVC(kernel='linear')  # linear SVM classifier\n",
    "SVM_5.fit(trainX_HOG, trainY_HOG)\n",
    "\n",
    "# predicting on test data\n",
    "\n",
    "batchSize = 10  \n",
    "totalBatches = int(np.ceil(len(testX_HOG) / batchSize))\n",
    "\n",
    "testPred_HOG = []\n",
    "\n",
    "print(\"Predicting LBP Test Data...\")\n",
    "for i in tqdm(range(totalBatches), desc=\"Predicting Batches\", unit=\"batch\"):\n",
    "    # calculating the start and end index for the current batch\n",
    "    startIdx = i * batchSize\n",
    "    endIdx = min((i + 1) * batchSize, len(testX_HOG))\n",
    "    # predicting the current batch\n",
    "    batchPreds = SVM_5.predict(testX_HOG[startIdx:endIdx])\n",
    "    testPred_HOG.extend(batchPreds)\n",
    "\n",
    "testPred_HOG = np.array(testPred_HOG)\n",
    "\n",
    "# finding and printing the accuracy\n",
    "accuracyHOG = accuracy_score(testY_HOG, testPred_HOG)\n",
    "print(f\"Linear SVM with LBP Histogram Test Accuracy: {accuracyHOG * 100:.2f}%\")"
   ]
  },
  {
   "cell_type": "code",
   "execution_count": null,
   "metadata": {},
   "outputs": [
    {
     "name": "stdout",
     "output_type": "stream",
     "text": [
      "Model 4 successfully saved to ../saved_models/SVM_Model_4.pkl\n"
     ]
    }
   ],
   "source": [
    "# saving SVM Model 4\n",
    "model_filename4 = '../saved_models/SVM_Model_4.pkl'\n",
    "joblib.dump(SVM_5, model_filename4)\n",
    "print(f\"Model 4 successfully saved to {model_filename4}\")"
   ]
  },
  {
   "cell_type": "markdown",
   "metadata": {},
   "source": [
    "## **SVM (Linear) Using 2 Feature Descriptors** ##"
   ]
  },
  {
   "cell_type": "markdown",
   "metadata": {},
   "source": [
    "### **SVM 6 (Colour Histogram + HOG Features, Linear)** ###"
   ]
  },
  {
   "cell_type": "code",
   "execution_count": 4,
   "metadata": {},
   "outputs": [
    {
     "name": "stderr",
     "output_type": "stream",
     "text": [
      "Loading Features from ../features/img_HOG_ColourHist_Features/Training: 100%|██████████| 160/160 [00:06<00:00, 23.53folder/s]\n",
      "Loading Features from ../features/img_HOG_ColourHist_Features/Testing: 100%|██████████| 159/159 [00:02<00:00, 60.38folder/s]\n"
     ]
    },
    {
     "name": "stdout",
     "output_type": "stream",
     "text": [
      "Training Features Shape: (79921, 960)\n",
      "Testing Features Shape: (26668, 960)\n",
      "Number of Labels: 132\n",
      "Predicting Test Data...\n"
     ]
    },
    {
     "name": "stderr",
     "output_type": "stream",
     "text": [
      "Predicting Batches: 100%|██████████| 2667/2667 [18:52<00:00,  2.36batch/s]"
     ]
    },
    {
     "name": "stdout",
     "output_type": "stream",
     "text": [
      "Linear SVM on HOG and Colour Histogram Test Accuracy: 96.70%\n"
     ]
    },
    {
     "name": "stderr",
     "output_type": "stream",
     "text": [
      "\n"
     ]
    }
   ],
   "source": [
    "# loading the train and test feature data (HOG and Colour Histogram features)\n",
    "trainX, trainY = loadFeaturesAndLabels('../features/img_HOG_ColourHist_Features/Training')\n",
    "testX, testY = loadFeaturesAndLabels('../features/img_HOG_ColourHist_Features/Testing')\n",
    "\n",
    "# using StandardScaler to standardize the features\n",
    "from sklearn.preprocessing import StandardScaler\n",
    "\n",
    "scaler = StandardScaler()\n",
    "trainX = scaler.fit_transform(trainX)\n",
    "testX = scaler.transform(testX)\n",
    "\n",
    "print(f\"Training Features Shape: {trainX.shape}\")\n",
    "print(f\"Testing Features Shape: {testX.shape}\")\n",
    "print(f\"Number of Labels: {len(np.unique(trainY))}\")\n",
    "\n",
    "# training\n",
    "SVM_6 = SVC(kernel='linear')  # linear SVM classifier\n",
    "SVM_6.fit(trainX, trainY)\n",
    "\n",
    "# predicting on test data\n",
    "print(\"Predicting Test Data...\")\n",
    "batchSize = 10  \n",
    "totalBatches = int(np.ceil(len(testX) / batchSize))\n",
    "\n",
    "testPred6 = []\n",
    "\n",
    "for i in tqdm(range(totalBatches), desc=\"Predicting Batches\", unit=\"batch\"):\n",
    "    # calculating the start and end index for the current batch\n",
    "    startIdx = i * batchSize\n",
    "    endIdx = min((i + 1) * batchSize, len(testX))\n",
    "    # predicting the current batch\n",
    "    batchPreds = SVM_6.predict(testX[startIdx:endIdx])\n",
    "    testPred6.extend(batchPreds)\n",
    "\n",
    "testPred6 = np.array(testPred6)\n",
    "\n",
    "# finding and printing the accuracy\n",
    "accuracy = accuracy_score(testY, testPred6)\n",
    "print(f\"Linear SVM on HOG and Colour Histogram Test Accuracy: {accuracy * 100:.2f}%\")"
   ]
  },
  {
   "cell_type": "code",
   "execution_count": 6,
   "metadata": {},
   "outputs": [
    {
     "name": "stdout",
     "output_type": "stream",
     "text": [
      "SVM Model 6 successfully sved to ../saved_models/SVM_Model_6.pkl\n"
     ]
    }
   ],
   "source": [
    "# saving PCA + SVM Model 1\n",
    "model_filename_6 = '../saved_models/SVM_Model_6.pkl'\n",
    "joblib.dump(SVM_6, model_filename_6)\n",
    "print(f\"SVM Model 6 successfully sved to {model_filename_6}\")"
   ]
  },
  {
   "cell_type": "markdown",
   "metadata": {},
   "source": [
    "### **SVM 7 (Colour Histogram + LBP Histogram Features, Linear)** ###"
   ]
  },
  {
   "cell_type": "code",
   "execution_count": 7,
   "metadata": {},
   "outputs": [
    {
     "name": "stderr",
     "output_type": "stream",
     "text": [
      "Loading Features from ../features/img_ColourHist_LBP_Hist_Features/Training: 100%|██████████| 160/160 [00:10<00:00, 15.94folder/s]\n",
      "Loading Features from ../features/img_ColourHist_LBP_Hist_Features/Testing: 100%|██████████| 159/159 [00:02<00:00, 54.91folder/s]\n"
     ]
    },
    {
     "name": "stdout",
     "output_type": "stream",
     "text": [
      "Training Features Shape: (79921, 70)\n",
      "Testing Features Shape: (26668, 70)\n",
      "Number of Labels: 132\n",
      "Linear SVM on LBP + Colour Histogram Test Accuracy: 98.87%\n"
     ]
    }
   ],
   "source": [
    "# loading the train and test feature data (LBP Histogram and Colour Histogram features)\n",
    "trainX, trainY = loadFeaturesAndLabels('../features/img_ColourHist_LBP_Hist_Features/Training')\n",
    "testX, testY = loadFeaturesAndLabels('../features/img_ColourHist_LBP_Hist_Features/Testing')\n",
    "\n",
    "# using StandardScaler to standardize the features\n",
    "from sklearn.preprocessing import StandardScaler\n",
    "\n",
    "scaler = StandardScaler()\n",
    "trainX = scaler.fit_transform(trainX)\n",
    "testX = scaler.transform(testX)\n",
    "\n",
    "print(f\"Training Features Shape: {trainX.shape}\")\n",
    "print(f\"Testing Features Shape: {testX.shape}\")\n",
    "print(f\"Number of Labels: {len(np.unique(trainY))}\")\n",
    "\n",
    "# training\n",
    "SVM_7 = SVC(kernel='linear')  # linear SVM classifier\n",
    "SVM_7.fit(trainX, trainY)\n",
    "\n",
    "# predicting on test data\n",
    "testPredictions7 = SVM_7.predict(testX)\n",
    "\n",
    "# finding and printing the accuracy\n",
    "accuracy7 = accuracy_score(testY, testPredictions7)\n",
    "print(f\"Linear SVM on LBP + Colour Histogram Test Accuracy: {accuracy7 * 100:.2f}%\")"
   ]
  },
  {
   "cell_type": "code",
   "execution_count": 11,
   "metadata": {},
   "outputs": [
    {
     "name": "stdout",
     "output_type": "stream",
     "text": [
      "SVM Model 7 successfully saved to ../saved_models/SVM_Model_7.pkl\n"
     ]
    }
   ],
   "source": [
    "# saving PCA + SVM Model 2\n",
    "model_filename_7 = '../saved_models/SVM_Model_7.pkl'\n",
    "joblib.dump(SVM_7, model_filename_7)\n",
    "print(f\"SVM Model 7 successfully saved to {model_filename_7}\")"
   ]
  }
 ],
 "metadata": {
  "kernelspec": {
   "display_name": "PRML",
   "language": "python",
   "name": "python3"
  },
  "language_info": {
   "codemirror_mode": {
    "name": "ipython",
    "version": 3
   },
   "file_extension": ".py",
   "mimetype": "text/x-python",
   "name": "python",
   "nbconvert_exporter": "python",
   "pygments_lexer": "ipython3",
   "version": "3.11.11"
  }
 },
 "nbformat": 4,
 "nbformat_minor": 2
}
